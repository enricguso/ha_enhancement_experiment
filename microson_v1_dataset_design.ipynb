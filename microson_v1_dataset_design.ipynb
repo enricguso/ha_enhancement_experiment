{
 "cells": [
  {
   "cell_type": "markdown",
   "id": "77da5d49",
   "metadata": {},
   "source": [
    "# Meta-data generation script for Microson enhancement dataset (V1)\n",
    "\n",
    "Perse Multilingual-LibriSpeech-Spanish (MLLSS) and WHAM! noise datasets and define situations and augmentations for each MLLSS instance"
   ]
  },
  {
   "cell_type": "code",
   "execution_count": 1,
   "id": "979138dd",
   "metadata": {},
   "outputs": [],
   "source": [
    "import masp as srs\n",
    "import numpy as np\n",
    "import soundfile as sf\n",
    "from IPython.display import Audio\n",
    "import scipy\n",
    "import copy\n",
    "import pandas as pd\n",
    "import os\n",
    "from os.path import join as pjoin\n",
    "from multiprocessing import Pool\n",
    "import matplotlib.pyplot as plt\n",
    "import mat73\n",
    "import tqdm\n",
    "import pyrubberband as pyrb\n"
   ]
  },
  {
   "cell_type": "code",
   "execution_count": 2,
   "id": "eaab4889",
   "metadata": {},
   "outputs": [],
   "source": [
    "# import my modules (helpers.py where I stored all the functions):\n",
    "import helpers as hlp\n",
    "import importlib\n",
    "importlib.reload(hlp);"
   ]
  },
  {
   "cell_type": "code",
   "execution_count": 3,
   "id": "0859d8af",
   "metadata": {},
   "outputs": [],
   "source": [
    "# WE DEFINE THE CHUNK LENGHT TO 4 SECONDS (DEFAULT TO USING SUDO-RM-RF)\n",
    "# SET PATHS:\n",
    "mls_path = '/home/ubuntu/Data/mls_spanish'\n",
    "wham_path = '/home/ubuntu/Data/wham'\n",
    "output_path = '/home/ubuntu/Data/ha_scenes_sounds/'\n",
    "fs = 16000\n",
    "fs_n = 'wav16k'\n",
    "mode = 'min'"
   ]
  },
  {
   "cell_type": "code",
   "execution_count": 4,
   "id": "c2c6a378",
   "metadata": {},
   "outputs": [],
   "source": [
    "np.random.seed(0)"
   ]
  },
  {
   "cell_type": "code",
   "execution_count": 5,
   "id": "ad5b9fe3",
   "metadata": {},
   "outputs": [],
   "source": [
    "def assign_chunks_by_duration(seconds_list):\n",
    "    # Files that can reasonably be padded will be padded.\n",
    "    # Otherwise we crop\n",
    "    out = []\n",
    "    chunk = []\n",
    "    low_bound = np.array([(x+1)*2 for x in list(range(11))])   \n",
    "    hi_bound = np.array([(x+2)*2 for x in list(range(11))])\n",
    "    n_chunks = np.repeat(np.array([x+1 for x in list(range(6))]), 2)\n",
    "    n_chunks = n_chunks[:len(low_bound)]\n",
    "    for s in seconds_list:\n",
    "        x = n_chunks[np.argmax(np.logical_and(s > low_bound, s < hi_bound))]\n",
    "        out.append(x)\n",
    "        chunk.append(list(range(x)))\n",
    "    return out, chunk   "
   ]
  },
  {
   "cell_type": "code",
   "execution_count": 6,
   "id": "e448a3cb",
   "metadata": {},
   "outputs": [],
   "source": [
    "'''\n",
    "noise_info = []\n",
    "for split in ['tr', 'cv', 'tt']:\n",
    "    split_path = pjoin(pjoin(wham_path, 'wham_noise'), split)\n",
    "    for audio_path in  tqdm.tqdm(os.listdir(split_path)):\n",
    "        audio, fs = sf.read(pjoin(split_path, audio_path))\n",
    "        noise_info.append({'split': split, 'audio_path': pjoin(audio_path), 'fs_noise': fs, 'shape':audio.shape})\n",
    "        \n",
    "\n",
    "ometa = pd.read_csv(pjoin(mls_path, 'metainfo.txt'), sep= '|')\n",
    "ometa.columns = ometa.columns.str.strip()\n",
    "ometa['PARTITION'] = ometa['PARTITION'].str.strip()\n",
    "\n",
    "info = []\n",
    "for split in ['train', 'test', 'dev']:\n",
    "    split_path = pjoin(pjoin(mls_path, split), 'audio')\n",
    "    speakers = os.listdir(split_path)\n",
    "    for speaker in speakers:\n",
    "        speaker_path = pjoin(split_path, speaker)\n",
    "        books = os.listdir(speaker_path)\n",
    "        for book in books:\n",
    "            book_path = pjoin(speaker_path, book)\n",
    "            audio_paths = os.listdir(book_path)\n",
    "            for audio_path in tqdm.tqdm(audio_paths):\n",
    "                gender = list(ometa[ometa['SPEAKER']==int(speaker)]['GENDER'])[0].strip()\n",
    "                info.append({'split': split, 'speaker': speaker, 'book': book, 'speech_path': audio_path, 'gender': gender})\n",
    "df_s = pd.DataFrame(info)\n",
    "df_n = pd.DataFrame(noise_info)\n",
    "\n",
    "\n",
    "lens = list(df_n['shape'])\n",
    "\n",
    "df_s.to_pickle(\"mls_info.pkl\")\n",
    "df_n.to_pickle(\"wham_info.pkl\")\n",
    "''';"
   ]
  },
  {
   "cell_type": "code",
   "execution_count": 7,
   "id": "e594b501",
   "metadata": {},
   "outputs": [],
   "source": [
    "df_s = pd.read_pickle(\"mls_info.pkl\")\n",
    "df_n = pd.read_pickle(\"wham_info.pkl\")"
   ]
  },
  {
   "cell_type": "code",
   "execution_count": 8,
   "id": "4272d6c5",
   "metadata": {},
   "outputs": [],
   "source": [
    "def augment_wham_train_set(tr, speech_len, fs):\n",
    "    tr = tr.reset_index(drop=True)\n",
    "    # Store lenght (in samples and seconds) from shape\n",
    "    tr.insert(2, \"len_samp\", [x[0] for x in list(tr['shape'])], True)\n",
    "    tr.insert(2, \"len_s\", [x[0]/fs for x in list(tr['shape'])], True)\n",
    "    \n",
    "    # Assign a number of chunks. Chunks from [2,4]s are expanded to one 4s chunk. \n",
    "    # Chunks from [4,6]s are cropped to one 4s chunk\n",
    "    nchunks, chunk = assign_chunks_by_duration(list(tr['len_s']))\n",
    "    tr.insert(2, \"num_chunks\", nchunks, True)\n",
    "    lentr = len(tr)\n",
    "    tr = tr.reindex(tr.index.repeat(tr.num_chunks))\n",
    "    tr = tr.reset_index(drop=True)\n",
    "    tr.insert(2, \"chunk\", [item for sublist in chunk for item in sublist], True)\n",
    "    # One copy will have phase inversion (*(-1))\n",
    "    L = [False, True]\n",
    "    tr = (pd.DataFrame(np.repeat(tr.values, 2, axis=0), columns=tr.columns)\n",
    "               .assign(phase_inv = np.tile(L, len(tr))))\n",
    "    # The other copy will have a swap of left and right channels\n",
    "    tr = (pd.DataFrame(np.repeat(tr.values, 2, axis=0), columns=tr.columns)\n",
    "               .assign(lr_inv = np.tile(L, len(tr))))\n",
    "    # The rest of utterances we have to augment will randomly time-streched\n",
    "    stretch_utt = speech_len - len(tr)\n",
    "    stretch  = np.concatenate((np.zeros(len(tr)), np.random.uniform(low=0.9, high=1.1, size=(stretch_utt))))\n",
    "    tr = pd.concat([tr, tr[0:stretch_utt]])\n",
    "    tr.insert(10, \"stretch\", stretch, True)\n",
    "    tr = tr.reset_index(drop=True)\n",
    "    tr = tr.rename(columns={'audio_path': 'noise_path'})\n",
    "    tr = tr.rename(columns={'split': 'wham_split'})\n",
    "    return tr\n",
    "\n",
    "def crop_wham_test_set(tr, speech_len, fs):\n",
    "    tr = tr.reset_index(drop=True)\n",
    "    tr.insert(2, \"len_samp\", [x[0] for x in list(tr['shape'])], True)\n",
    "    tr.insert(2, \"len_s\", [x[0]/fs for x in list(tr['shape'])], True)\n",
    "    tr = tr[tr.len_s > 4.]\n",
    "    tr = tr[:speech_len]\n",
    "    tr = tr.reset_index(drop=True)\n",
    "    tr.insert(2, \"chunk\", [0]*len(tr))\n",
    "    tr.insert(2, \"num_chunks\", [1]*len(tr))\n",
    "    tr.insert(2, \"phase_inv\", [False]*len(tr))\n",
    "    tr.insert(2, \"lr_inv\", [False]*len(tr))\n",
    "    tr.insert(2, \"stretch\", np.zeros(len(tr)))\n",
    "    tr = tr.rename(columns={'audio_path': 'noise_path'})\n",
    "    tr = tr.rename(columns={'split': 'wham_split'})\n",
    "    return tr"
   ]
  },
  {
   "cell_type": "code",
   "execution_count": 9,
   "id": "a31aab8a",
   "metadata": {},
   "outputs": [],
   "source": [
    "tr = augment_wham_train_set(df_n[df_n['split']=='tr'], len(df_s[df_s['split']=='train']), fs)\n",
    "cv = crop_wham_test_set(df_n[df_n['split']=='cv'], len(df_s[df_s['split']=='dev']), fs)\n",
    "tt = crop_wham_test_set(df_n[df_n['split']=='tt'], len(df_s[df_s['split']=='test']), fs)"
   ]
  },
  {
   "cell_type": "code",
   "execution_count": 10,
   "id": "18ef54fe",
   "metadata": {},
   "outputs": [],
   "source": [
    "aug_wham = pd.concat([tr, tt, cv], axis=0)\n",
    "aug_wham = aug_wham.reset_index(drop=True)"
   ]
  },
  {
   "cell_type": "code",
   "execution_count": 11,
   "id": "6bc93d16",
   "metadata": {},
   "outputs": [],
   "source": [
    "# now we merge the augmented wham metadata with the MLS-spanish metadata\n",
    "df = pd.concat([df_s, aug_wham], axis=1)"
   ]
  },
  {
   "cell_type": "code",
   "execution_count": 12,
   "id": "debfea90",
   "metadata": {},
   "outputs": [],
   "source": [
    "# import my modules (helpers.py where I stored all the functions):\n",
    "import helpers as hlp\n",
    "import importlib\n",
    "importlib.reload(hlp);\n",
    "\n",
    "head_orient_azi = np.random.uniform(low = -45, high = 45, size = len(df))\n",
    "head_orient_ele = np.random.uniform(low = -10, high = 10, size = len(df))\n",
    "\n",
    "angle = np.random.uniform(low = -45, high = 45, size = len(df))\n",
    "dist = np.random.uniform(low = 0.5, high = 3, size = len(df))\n",
    "snr = np.random.uniform(low = 0, high = 6, size = len(df))"
   ]
  },
  {
   "cell_type": "code",
   "execution_count": 13,
   "id": "8c01244c",
   "metadata": {},
   "outputs": [],
   "source": [
    "room_x = np.random.uniform(low = 3., high = 30., size = len(df))"
   ]
  },
  {
   "cell_type": "code",
   "execution_count": 14,
   "id": "599087b2",
   "metadata": {},
   "outputs": [],
   "source": [
    "room_y = room_x * np.random.uniform(low=0.5, high=1, size=len(room_x)) #avoid tunnels"
   ]
  },
  {
   "cell_type": "code",
   "execution_count": 15,
   "id": "b8bb743b",
   "metadata": {},
   "outputs": [],
   "source": [
    "#room_y = np.random.uniform(low = 2., high = 30., size = len(df))\n",
    "room_z = np.random.uniform(low = 2.5, high = 5., size = len(df))"
   ]
  },
  {
   "cell_type": "code",
   "execution_count": 16,
   "id": "4d52c430",
   "metadata": {},
   "outputs": [],
   "source": [
    "t60s =  np.random.uniform(low = .1, high = 1., size = len(df))\n",
    "t60s = np.sort(t60s)\n",
    "volumes = room_x * room_y * room_z\n",
    "volumes = np.sort(volumes)\n",
    "dist = np.sort(dist)\n",
    "perm = np.random.permutation(len(volumes))\n",
    "room_x = room_x[perm]\n",
    "room_y = room_y[perm]\n",
    "room_z = room_z[perm]\n",
    "dist = dist[perm]\n",
    "t60s = t60s[perm]"
   ]
  },
  {
   "cell_type": "code",
   "execution_count": 17,
   "id": "de951870",
   "metadata": {},
   "outputs": [],
   "source": [
    "head_pos = []\n",
    "for k in range(len(room_x)):\n",
    "    head_pos.append(np.array([np.random.uniform(low = 0.35*room_x[k], high = 0.65*room_x[k]),\n",
    "                        np.random.uniform(low = 0.35*room_y[k], high = 0.65*room_y[k]),\n",
    "                        np.random.uniform(low = 1., high = 2.)]))"
   ]
  },
  {
   "cell_type": "code",
   "execution_count": 18,
   "id": "3ad33695",
   "metadata": {},
   "outputs": [],
   "source": [
    "head_pos = np.array(head_pos)"
   ]
  },
  {
   "cell_type": "code",
   "execution_count": 19,
   "id": "d7e713e0",
   "metadata": {},
   "outputs": [],
   "source": [
    "room = np.array((room_x, room_y, room_z)).T"
   ]
  },
  {
   "cell_type": "code",
   "execution_count": 20,
   "id": "60acff81",
   "metadata": {},
   "outputs": [
    {
     "name": "stderr",
     "output_type": "stream",
     "text": [
      "100%|███████████████████████████████████████████████████████████████████████████████████████████████████████████████████████████████████████████████| 225494/225494 [00:03<00:00, 69420.93it/s]\n"
     ]
    }
   ],
   "source": [
    "# import my modules (helpers.py where I stored all the functions):\n",
    "import helpers as hlp\n",
    "import importlib\n",
    "importlib.reload(hlp);\n",
    "\n",
    "target_pos = []\n",
    "for k in tqdm.tqdm(range(len(room_x))):\n",
    "    target_pos.append(hlp.place_on_circle_in_room(head_pos[k], dist[k], \n",
    "                                                               angle[k]+head_orient_azi[k], room[k]))\n"
   ]
  },
  {
   "cell_type": "code",
   "execution_count": 21,
   "id": "ca0975b6",
   "metadata": {},
   "outputs": [],
   "source": [
    "target_pos = np.squeeze(np.array(target_pos))"
   ]
  },
  {
   "cell_type": "code",
   "execution_count": 22,
   "id": "d95485c0",
   "metadata": {},
   "outputs": [
    {
     "data": {
      "text/plain": [
       "True"
      ]
     },
     "execution_count": 22,
     "metadata": {},
     "output_type": "execute_result"
    }
   ],
   "source": [
    "np.all(target_pos > 0.) # all targets are positive"
   ]
  },
  {
   "cell_type": "code",
   "execution_count": 23,
   "id": "08830e6d",
   "metadata": {},
   "outputs": [
    {
     "data": {
      "text/plain": [
       "True"
      ]
     },
     "execution_count": 23,
     "metadata": {},
     "output_type": "execute_result"
    }
   ],
   "source": [
    "# Checks:\n",
    "np.all(target_pos < room) # all targets are in the room"
   ]
  },
  {
   "cell_type": "code",
   "execution_count": 24,
   "id": "7e1f5f59",
   "metadata": {},
   "outputs": [
    {
     "data": {
      "text/plain": [
       "True"
      ]
     },
     "execution_count": 24,
     "metadata": {},
     "output_type": "execute_result"
    }
   ],
   "source": [
    "np.all(head_pos < room) # all heads are in the room"
   ]
  },
  {
   "cell_type": "code",
   "execution_count": 25,
   "id": "53ea9daa",
   "metadata": {},
   "outputs": [],
   "source": [
    "# now let's check the ears:\n",
    "ears_pos = []\n",
    "for k in range(head_pos.shape[0]):\n",
    "    ears_pos.append(np.array(hlp.head_2_ku_ears(head_pos[k], np.array([head_orient_azi[k],head_orient_ele[k]]))))\n",
    "\n",
    "ears_pos = np.array(ears_pos)"
   ]
  },
  {
   "cell_type": "code",
   "execution_count": 26,
   "id": "5e078be3",
   "metadata": {},
   "outputs": [
    {
     "data": {
      "text/plain": [
       "True"
      ]
     },
     "execution_count": 26,
     "metadata": {},
     "output_type": "execute_result"
    }
   ],
   "source": [
    "np.all(ears_pos[:, 0, :] < room) # all left ears are in the room"
   ]
  },
  {
   "cell_type": "code",
   "execution_count": 27,
   "id": "f72fb7c7",
   "metadata": {},
   "outputs": [
    {
     "data": {
      "text/plain": [
       "True"
      ]
     },
     "execution_count": 27,
     "metadata": {},
     "output_type": "execute_result"
    }
   ],
   "source": [
    "np.all(ears_pos[:, 1, :] < room) # all right are in the room"
   ]
  },
  {
   "cell_type": "code",
   "execution_count": 28,
   "id": "47ee7876",
   "metadata": {},
   "outputs": [
    {
     "data": {
      "text/plain": [
       "True"
      ]
     },
     "execution_count": 28,
     "metadata": {},
     "output_type": "execute_result"
    }
   ],
   "source": [
    "np.all(ears_pos > 0)"
   ]
  },
  {
   "cell_type": "code",
   "execution_count": 29,
   "id": "b5550b20",
   "metadata": {},
   "outputs": [
    {
     "data": {
      "text/plain": [
       "True"
      ]
     },
     "execution_count": 29,
     "metadata": {},
     "output_type": "execute_result"
    }
   ],
   "source": [
    "# final MINIMUM distance between head and target (check we don't have an intra-craneal target)\n",
    "min(np.sqrt(np.sum((target_pos - head_pos)**2, axis=1))) > 0.0875 * 2"
   ]
  },
  {
   "cell_type": "code",
   "execution_count": 30,
   "id": "d6a36857",
   "metadata": {},
   "outputs": [
    {
     "data": {
      "text/plain": [
       "1.0248253294449863"
      ]
     },
     "execution_count": 30,
     "metadata": {},
     "output_type": "execute_result"
    }
   ],
   "source": [
    "# minimum distance of ears against a wall\n",
    "min ( min(room[:, 0] - ears_pos[:, 0, 0]), min(room[:, 0] - ears_pos[:, 1, 0]))"
   ]
  },
  {
   "cell_type": "code",
   "execution_count": 31,
   "id": "fd075f83",
   "metadata": {},
   "outputs": [
    {
     "data": {
      "text/plain": [
       "0.4865705117067447"
      ]
     },
     "execution_count": 31,
     "metadata": {},
     "output_type": "execute_result"
    }
   ],
   "source": [
    "min ( min(room[:, 1] - ears_pos[:, 0, 1]), min(room[:, 1] - ears_pos[:, 1, 1]))"
   ]
  },
  {
   "cell_type": "code",
   "execution_count": 32,
   "id": "d6fa0b38",
   "metadata": {},
   "outputs": [
    {
     "data": {
      "text/plain": [
       "0.5061991183289214"
      ]
     },
     "execution_count": 32,
     "metadata": {},
     "output_type": "execute_result"
    }
   ],
   "source": [
    "min ( min(room[:, 2] - ears_pos[:, 0, 2]), min(room[:, 2] - ears_pos[:, 1, 2]))"
   ]
  },
  {
   "cell_type": "code",
   "execution_count": 33,
   "id": "1462969a",
   "metadata": {},
   "outputs": [
    {
     "data": {
      "text/plain": [
       "0.20000918012154356"
      ]
     },
     "execution_count": 33,
     "metadata": {},
     "output_type": "execute_result"
    }
   ],
   "source": [
    "# minimum distance of targets against a wall\n",
    "min(min(room[:, 0] - target_pos[:, 0]), min(room[:, 1] - target_pos[:, 1]), min(room[:, 2] - target_pos[:, 2]))"
   ]
  },
  {
   "cell_type": "code",
   "execution_count": 34,
   "id": "61390f27",
   "metadata": {},
   "outputs": [],
   "source": [
    "df = df.rename(columns={'split': 'mls_split'})"
   ]
  },
  {
   "cell_type": "code",
   "execution_count": 35,
   "id": "6135472e",
   "metadata": {},
   "outputs": [
    {
     "data": {
      "text/html": [
       "<div>\n",
       "<style scoped>\n",
       "    .dataframe tbody tr th:only-of-type {\n",
       "        vertical-align: middle;\n",
       "    }\n",
       "\n",
       "    .dataframe tbody tr th {\n",
       "        vertical-align: top;\n",
       "    }\n",
       "\n",
       "    .dataframe thead th {\n",
       "        text-align: right;\n",
       "    }\n",
       "</style>\n",
       "<table border=\"1\" class=\"dataframe\">\n",
       "  <thead>\n",
       "    <tr style=\"text-align: right;\">\n",
       "      <th></th>\n",
       "      <th>mls_split</th>\n",
       "      <th>speaker</th>\n",
       "      <th>book</th>\n",
       "      <th>speech_path</th>\n",
       "      <th>gender</th>\n",
       "      <th>wham_split</th>\n",
       "      <th>noise_path</th>\n",
       "      <th>chunk</th>\n",
       "      <th>num_chunks</th>\n",
       "      <th>len_s</th>\n",
       "      <th>len_samp</th>\n",
       "      <th>fs_noise</th>\n",
       "      <th>shape</th>\n",
       "      <th>phase_inv</th>\n",
       "      <th>lr_inv</th>\n",
       "      <th>stretch</th>\n",
       "    </tr>\n",
       "  </thead>\n",
       "  <tbody>\n",
       "    <tr>\n",
       "      <th>0</th>\n",
       "      <td>train</td>\n",
       "      <td>8688</td>\n",
       "      <td>8509</td>\n",
       "      <td>8688_8509_000091.flac</td>\n",
       "      <td>M</td>\n",
       "      <td>tr</td>\n",
       "      <td>012o030z_0.94807_405c020d_-0.94807.wav</td>\n",
       "      <td>0</td>\n",
       "      <td>2</td>\n",
       "      <td>9.290938</td>\n",
       "      <td>148655</td>\n",
       "      <td>16000</td>\n",
       "      <td>(148655, 2)</td>\n",
       "      <td>False</td>\n",
       "      <td>False</td>\n",
       "      <td>0.0</td>\n",
       "    </tr>\n",
       "    <tr>\n",
       "      <th>1</th>\n",
       "      <td>train</td>\n",
       "      <td>8688</td>\n",
       "      <td>8509</td>\n",
       "      <td>8688_8509_000029.flac</td>\n",
       "      <td>M</td>\n",
       "      <td>tr</td>\n",
       "      <td>012o030z_0.94807_405c020d_-0.94807.wav</td>\n",
       "      <td>0</td>\n",
       "      <td>2</td>\n",
       "      <td>9.290938</td>\n",
       "      <td>148655</td>\n",
       "      <td>16000</td>\n",
       "      <td>(148655, 2)</td>\n",
       "      <td>False</td>\n",
       "      <td>True</td>\n",
       "      <td>0.0</td>\n",
       "    </tr>\n",
       "    <tr>\n",
       "      <th>2</th>\n",
       "      <td>train</td>\n",
       "      <td>8688</td>\n",
       "      <td>8509</td>\n",
       "      <td>8688_8509_000069.flac</td>\n",
       "      <td>M</td>\n",
       "      <td>tr</td>\n",
       "      <td>012o030z_0.94807_405c020d_-0.94807.wav</td>\n",
       "      <td>0</td>\n",
       "      <td>2</td>\n",
       "      <td>9.290938</td>\n",
       "      <td>148655</td>\n",
       "      <td>16000</td>\n",
       "      <td>(148655, 2)</td>\n",
       "      <td>True</td>\n",
       "      <td>False</td>\n",
       "      <td>0.0</td>\n",
       "    </tr>\n",
       "    <tr>\n",
       "      <th>3</th>\n",
       "      <td>train</td>\n",
       "      <td>8688</td>\n",
       "      <td>8509</td>\n",
       "      <td>8688_8509_000146.flac</td>\n",
       "      <td>M</td>\n",
       "      <td>tr</td>\n",
       "      <td>012o030z_0.94807_405c020d_-0.94807.wav</td>\n",
       "      <td>0</td>\n",
       "      <td>2</td>\n",
       "      <td>9.290938</td>\n",
       "      <td>148655</td>\n",
       "      <td>16000</td>\n",
       "      <td>(148655, 2)</td>\n",
       "      <td>True</td>\n",
       "      <td>True</td>\n",
       "      <td>0.0</td>\n",
       "    </tr>\n",
       "    <tr>\n",
       "      <th>4</th>\n",
       "      <td>train</td>\n",
       "      <td>8688</td>\n",
       "      <td>8509</td>\n",
       "      <td>8688_8509_000052.flac</td>\n",
       "      <td>M</td>\n",
       "      <td>tr</td>\n",
       "      <td>012o030z_0.94807_405c020d_-0.94807.wav</td>\n",
       "      <td>1</td>\n",
       "      <td>2</td>\n",
       "      <td>9.290938</td>\n",
       "      <td>148655</td>\n",
       "      <td>16000</td>\n",
       "      <td>(148655, 2)</td>\n",
       "      <td>False</td>\n",
       "      <td>False</td>\n",
       "      <td>0.0</td>\n",
       "    </tr>\n",
       "    <tr>\n",
       "      <th>...</th>\n",
       "      <td>...</td>\n",
       "      <td>...</td>\n",
       "      <td>...</td>\n",
       "      <td>...</td>\n",
       "      <td>...</td>\n",
       "      <td>...</td>\n",
       "      <td>...</td>\n",
       "      <td>...</td>\n",
       "      <td>...</td>\n",
       "      <td>...</td>\n",
       "      <td>...</td>\n",
       "      <td>...</td>\n",
       "      <td>...</td>\n",
       "      <td>...</td>\n",
       "      <td>...</td>\n",
       "      <td>...</td>\n",
       "    </tr>\n",
       "    <tr>\n",
       "      <th>225489</th>\n",
       "      <td>dev</td>\n",
       "      <td>2592</td>\n",
       "      <td>1378</td>\n",
       "      <td>2592_1378_000003.flac</td>\n",
       "      <td>F</td>\n",
       "      <td>cv</td>\n",
       "      <td>01vo030s_0.91624_40nc020b_-0.91624.wav</td>\n",
       "      <td>0</td>\n",
       "      <td>1</td>\n",
       "      <td>10.816313</td>\n",
       "      <td>173061</td>\n",
       "      <td>16000</td>\n",
       "      <td>(173061, 2)</td>\n",
       "      <td>False</td>\n",
       "      <td>False</td>\n",
       "      <td>0.0</td>\n",
       "    </tr>\n",
       "    <tr>\n",
       "      <th>225490</th>\n",
       "      <td>dev</td>\n",
       "      <td>2592</td>\n",
       "      <td>1378</td>\n",
       "      <td>2592_1378_000064.flac</td>\n",
       "      <td>F</td>\n",
       "      <td>cv</td>\n",
       "      <td>40no0304_0.065523_20qa0114_-0.065523.wav</td>\n",
       "      <td>0</td>\n",
       "      <td>1</td>\n",
       "      <td>13.52325</td>\n",
       "      <td>216372</td>\n",
       "      <td>16000</td>\n",
       "      <td>(216372, 2)</td>\n",
       "      <td>False</td>\n",
       "      <td>False</td>\n",
       "      <td>0.0</td>\n",
       "    </tr>\n",
       "    <tr>\n",
       "      <th>225491</th>\n",
       "      <td>dev</td>\n",
       "      <td>2592</td>\n",
       "      <td>1378</td>\n",
       "      <td>2592_1378_000047.flac</td>\n",
       "      <td>F</td>\n",
       "      <td>cv</td>\n",
       "      <td>01ko030u_1.0843_01vo0313_-1.0843.wav</td>\n",
       "      <td>0</td>\n",
       "      <td>1</td>\n",
       "      <td>14.284625</td>\n",
       "      <td>228554</td>\n",
       "      <td>16000</td>\n",
       "      <td>(228554, 2)</td>\n",
       "      <td>False</td>\n",
       "      <td>False</td>\n",
       "      <td>0.0</td>\n",
       "    </tr>\n",
       "    <tr>\n",
       "      <th>225492</th>\n",
       "      <td>dev</td>\n",
       "      <td>2592</td>\n",
       "      <td>1378</td>\n",
       "      <td>2592_1378_000034.flac</td>\n",
       "      <td>F</td>\n",
       "      <td>cv</td>\n",
       "      <td>014c0208_2.3161_028a010r_-2.3161.wav</td>\n",
       "      <td>0</td>\n",
       "      <td>1</td>\n",
       "      <td>6.931</td>\n",
       "      <td>110896</td>\n",
       "      <td>16000</td>\n",
       "      <td>(110896, 2)</td>\n",
       "      <td>False</td>\n",
       "      <td>False</td>\n",
       "      <td>0.0</td>\n",
       "    </tr>\n",
       "    <tr>\n",
       "      <th>225493</th>\n",
       "      <td>dev</td>\n",
       "      <td>2592</td>\n",
       "      <td>1378</td>\n",
       "      <td>2592_1378_000053.flac</td>\n",
       "      <td>F</td>\n",
       "      <td>cv</td>\n",
       "      <td>40mo030m_2.1408_01mo0302_-2.1408.wav</td>\n",
       "      <td>0</td>\n",
       "      <td>1</td>\n",
       "      <td>13.015875</td>\n",
       "      <td>208254</td>\n",
       "      <td>16000</td>\n",
       "      <td>(208254, 2)</td>\n",
       "      <td>False</td>\n",
       "      <td>False</td>\n",
       "      <td>0.0</td>\n",
       "    </tr>\n",
       "  </tbody>\n",
       "</table>\n",
       "<p>225494 rows × 16 columns</p>\n",
       "</div>"
      ],
      "text/plain": [
       "       mls_split speaker  book            speech_path gender wham_split  \\\n",
       "0          train    8688  8509  8688_8509_000091.flac      M         tr   \n",
       "1          train    8688  8509  8688_8509_000029.flac      M         tr   \n",
       "2          train    8688  8509  8688_8509_000069.flac      M         tr   \n",
       "3          train    8688  8509  8688_8509_000146.flac      M         tr   \n",
       "4          train    8688  8509  8688_8509_000052.flac      M         tr   \n",
       "...          ...     ...   ...                    ...    ...        ...   \n",
       "225489       dev    2592  1378  2592_1378_000003.flac      F         cv   \n",
       "225490       dev    2592  1378  2592_1378_000064.flac      F         cv   \n",
       "225491       dev    2592  1378  2592_1378_000047.flac      F         cv   \n",
       "225492       dev    2592  1378  2592_1378_000034.flac      F         cv   \n",
       "225493       dev    2592  1378  2592_1378_000053.flac      F         cv   \n",
       "\n",
       "                                      noise_path chunk num_chunks      len_s  \\\n",
       "0         012o030z_0.94807_405c020d_-0.94807.wav     0          2   9.290938   \n",
       "1         012o030z_0.94807_405c020d_-0.94807.wav     0          2   9.290938   \n",
       "2         012o030z_0.94807_405c020d_-0.94807.wav     0          2   9.290938   \n",
       "3         012o030z_0.94807_405c020d_-0.94807.wav     0          2   9.290938   \n",
       "4         012o030z_0.94807_405c020d_-0.94807.wav     1          2   9.290938   \n",
       "...                                          ...   ...        ...        ...   \n",
       "225489    01vo030s_0.91624_40nc020b_-0.91624.wav     0          1  10.816313   \n",
       "225490  40no0304_0.065523_20qa0114_-0.065523.wav     0          1   13.52325   \n",
       "225491      01ko030u_1.0843_01vo0313_-1.0843.wav     0          1  14.284625   \n",
       "225492      014c0208_2.3161_028a010r_-2.3161.wav     0          1      6.931   \n",
       "225493      40mo030m_2.1408_01mo0302_-2.1408.wav     0          1  13.015875   \n",
       "\n",
       "       len_samp fs_noise        shape phase_inv  lr_inv  stretch  \n",
       "0        148655    16000  (148655, 2)     False   False      0.0  \n",
       "1        148655    16000  (148655, 2)     False    True      0.0  \n",
       "2        148655    16000  (148655, 2)      True   False      0.0  \n",
       "3        148655    16000  (148655, 2)      True    True      0.0  \n",
       "4        148655    16000  (148655, 2)     False   False      0.0  \n",
       "...         ...      ...          ...       ...     ...      ...  \n",
       "225489   173061    16000  (173061, 2)     False   False      0.0  \n",
       "225490   216372    16000  (216372, 2)     False   False      0.0  \n",
       "225491   228554    16000  (228554, 2)     False   False      0.0  \n",
       "225492   110896    16000  (110896, 2)     False   False      0.0  \n",
       "225493   208254    16000  (208254, 2)     False   False      0.0  \n",
       "\n",
       "[225494 rows x 16 columns]"
      ]
     },
     "execution_count": 35,
     "metadata": {},
     "output_type": "execute_result"
    }
   ],
   "source": [
    "df"
   ]
  },
  {
   "cell_type": "code",
   "execution_count": 36,
   "id": "c6ad8019",
   "metadata": {},
   "outputs": [],
   "source": [
    "df.insert(14, \"room_x\", room[:, 0])\n",
    "df.insert(15, \"room_y\", room[:, 1])\n",
    "df.insert(16, \"room_z\", room[:, 2])\n",
    "df.insert(17, \"rt60\", t60s)\n",
    "df.insert(18, \"headC_x\", head_pos[:,0])\n",
    "df.insert(19, \"headC_y\", head_pos[:,1])\n",
    "df.insert(20, \"headC_z\", head_pos[:,2])\n",
    "df.insert(21, \"src_x\", target_pos[:,0])\n",
    "df.insert(22, \"src_y\", target_pos[:,1])\n",
    "df.insert(23, \"src_z\", target_pos[:,2])\n",
    "df.insert(24, \"headOrient_azi\", head_orient_azi)\n",
    "df.insert(25, \"headOrient_ele\", head_orient_ele)\n",
    "df.insert(26, \"snr\", snr)"
   ]
  },
  {
   "cell_type": "code",
   "execution_count": 37,
   "id": "76109516",
   "metadata": {},
   "outputs": [],
   "source": [
    "df['idx'] = range(len(df))"
   ]
  },
  {
   "cell_type": "code",
   "execution_count": 38,
   "id": "f7f31f9c",
   "metadata": {},
   "outputs": [],
   "source": [
    "'''\n",
    "# generate a figure for each situation:\n",
    "for k in tqdm.tqdm(range(head_pos.shape[0])):\n",
    "    hlp.plot_scene(room[k], head_pos[k], np.array([head_orient_azi[k], head_orient_ele[k]])\n",
    "                   , ears_pos[k],[target_pos[k]], perspective=\"xy\")\n",
    "    plt.title(str(head_orient_azi[k])+ '_' + str(angle[k]))\n",
    "    plt.savefig(pjoin('situation_plots_rot', os.path.splitext(os.path.basename(df.iloc[k].audio_path))[0]+'.pdf'))\n",
    "    plt.close('all')\n",
    "''';"
   ]
  },
  {
   "cell_type": "code",
   "execution_count": 39,
   "id": "700bec6a",
   "metadata": {},
   "outputs": [],
   "source": [
    "df.to_csv('meta_microson_v1.csv', index=False, compression='infer')"
   ]
  },
  {
   "cell_type": "code",
   "execution_count": null,
   "id": "017cb9d0",
   "metadata": {},
   "outputs": [],
   "source": []
  }
 ],
 "metadata": {
  "kernelspec": {
   "display_name": "LibriMix3D",
   "language": "python",
   "name": "librimix3d"
  },
  "language_info": {
   "codemirror_mode": {
    "name": "ipython",
    "version": 3
   },
   "file_extension": ".py",
   "mimetype": "text/x-python",
   "name": "python",
   "nbconvert_exporter": "python",
   "pygments_lexer": "ipython3",
   "version": "3.8.10"
  }
 },
 "nbformat": 4,
 "nbformat_minor": 5
}
