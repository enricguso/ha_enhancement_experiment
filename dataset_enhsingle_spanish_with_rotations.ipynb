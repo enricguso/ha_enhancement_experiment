{
 "cells": [
  {
   "cell_type": "code",
   "execution_count": 1,
   "id": "979138dd",
   "metadata": {},
   "outputs": [],
   "source": [
    "import masp as srs\n",
    "import numpy as np\n",
    "import soundfile as sf\n",
    "from IPython.display import Audio\n",
    "import scipy\n",
    "import copy\n",
    "import pandas as pd\n",
    "import os\n",
    "from os.path import join as pjoin\n",
    "from multiprocessing import Pool\n",
    "import matplotlib.pyplot as plt\n",
    "import mat73\n",
    "import tqdm\n",
    "import pyrubberband as pyrb\n"
   ]
  },
  {
   "cell_type": "code",
   "execution_count": 2,
   "id": "eaab4889",
   "metadata": {},
   "outputs": [],
   "source": [
    "# import my modules (helpers.py where I stored all the functions):\n",
    "import helpers as hlp\n",
    "import importlib\n",
    "importlib.reload(hlp);"
   ]
  },
  {
   "cell_type": "code",
   "execution_count": 3,
   "id": "0859d8af",
   "metadata": {},
   "outputs": [],
   "source": [
    "# WE DEFINE THE CHUNK LENGHT TO 4 SECONDS (DEFAULT TO USING SUDO-RM-RF)\n",
    "# SET PATHS:\n",
    "mls_path = '/home/ubuntu/Data/mls_spanish'\n",
    "wham_path = '/home/ubuntu/Data/wham'\n",
    "output_path = '/home/ubuntu/Data/ha_scenes_sounds/'\n",
    "fs = 16000\n",
    "fs_n = 'wav16k'\n",
    "mode = 'min'"
   ]
  },
  {
   "cell_type": "code",
   "execution_count": 4,
   "id": "ad5b9fe3",
   "metadata": {},
   "outputs": [],
   "source": [
    "def assign_chunks_by_duration(seconds_list):\n",
    "    # Files that can reasonably be padded will be padded.\n",
    "    # Otherwise we crop\n",
    "    out = []\n",
    "    chunk = []\n",
    "    low_bound = np.array([(x+1)*2 for x in list(range(11))])   \n",
    "    hi_bound = np.array([(x+2)*2 for x in list(range(11))])\n",
    "    n_chunks = np.repeat(np.array([x+1 for x in list(range(6))]), 2)\n",
    "    n_chunks = n_chunks[:len(low_bound)]\n",
    "    for s in seconds_list:\n",
    "        x = n_chunks[np.argmax(np.logical_and(s > low_bound, s < hi_bound))]\n",
    "        out.append(x)\n",
    "        chunk.append(list(range(x)))\n",
    "    return out, chunk   "
   ]
  },
  {
   "cell_type": "code",
   "execution_count": 5,
   "id": "d1faef0e",
   "metadata": {},
   "outputs": [],
   "source": [
    "'''\n",
    "noise_info = []\n",
    "for split in ['tr', 'cv', 'tt']:\n",
    "    split_path = pjoin(pjoin(wham_path, 'wham_noise'), split)\n",
    "    for audio_path in  tqdm.tqdm(os.listdir(split_path)):\n",
    "        audio, fs = sf.read(pjoin(split_path, audio_path))\n",
    "        noise_info.append({'split': split, 'audio_path': pjoin(split_path, audio_path), 'size_mb': os.stat(pjoin(split_path, audio_path)).st_size / (1024 * 1024), 'fs': fs, 'shape':audio.shape})\n",
    "        \n",
    "\n",
    "ometa = pd.read_csv(pjoin(mls_path, 'metainfo.txt'), sep= '|')\n",
    "ometa.columns = ometa.columns.str.strip()\n",
    "ometa['PARTITION'] = ometa['PARTITION'].str.strip()\n",
    "\n",
    "info = []\n",
    "for split in ['train', 'test', 'dev']:\n",
    "    split_path = pjoin(pjoin(mls_path, split), 'audio')\n",
    "    speakers = os.listdir(split_path)\n",
    "    for speaker in speakers:\n",
    "        speaker_path = pjoin(split_path, speaker)\n",
    "        books = os.listdir(speaker_path)\n",
    "        for book in books:\n",
    "            book_path = pjoin(speaker_path, book)\n",
    "            audio_paths = os.listdir(book_path)\n",
    "            for audio_path in audio_paths:\n",
    "                gender = list(ometa[ometa['SPEAKER']==int(speaker)]['GENDER'])[0].strip()\n",
    "                info.append({'split': split, 'speaker': speaker, 'book': book, 'audio_path': pjoin(book_path, audio_path), 'gender': gender})\n",
    "\n",
    "df_s = pd.DataFrame(info)\n",
    "df_n = pd.DataFrame(noise_info)\n",
    "\n",
    "\n",
    "lens = list(df_n['shape'])\n",
    "\n",
    "df_n.iloc[0]['audio_path']\n",
    "\n",
    "df_s.to_pickle(\"mls_info.pkl\")\n",
    "df_n.to_pickle(\"wham_info.pkl\")\n",
    "''';"
   ]
  },
  {
   "cell_type": "code",
   "execution_count": 6,
   "id": "e594b501",
   "metadata": {},
   "outputs": [],
   "source": [
    "df_s = pd.read_pickle(\"mls_info.pkl\")\n",
    "df_n = pd.read_pickle(\"wham_info.pkl\")"
   ]
  },
  {
   "cell_type": "code",
   "execution_count": 7,
   "id": "4272d6c5",
   "metadata": {},
   "outputs": [],
   "source": [
    "def augment_wham_train_set(tr, speech_len, fs):\n",
    "    tr = tr.reset_index(drop=True)\n",
    "    # Store lenght (in samples and seconds) from shape\n",
    "    tr.insert(2, \"len_samp\", [x[0] for x in list(tr['shape'])], True)\n",
    "    tr.insert(2, \"len_s\", [x[0]/fs for x in list(tr['shape'])], True)\n",
    "    \n",
    "    # Assign a number of chunks. Chunks from [2,4]s are expanded to one 4s chunk. \n",
    "    # Chunks from [4,6]s are cropped to one 4s chunk\n",
    "    nchunks, chunk = assign_chunks_by_duration(list(tr['len_s']))\n",
    "    tr.insert(2, \"num_chunks\", nchunks, True)\n",
    "    lentr = len(tr)\n",
    "    tr = tr.reindex(tr.index.repeat(tr.num_chunks))\n",
    "    tr = tr.reset_index(drop=True)\n",
    "    tr.insert(2, \"chunk\", [item for sublist in chunk for item in sublist], True)\n",
    "    # One copy will have phase inversion (*(-1))\n",
    "    L = [False, True]\n",
    "    tr = (pd.DataFrame(np.repeat(tr.values, 2, axis=0), columns=tr.columns)\n",
    "               .assign(phase_inv = np.tile(L, len(tr))))\n",
    "    # The other copy will have a swap of left and right channels\n",
    "    tr = (pd.DataFrame(np.repeat(tr.values, 2, axis=0), columns=tr.columns)\n",
    "               .assign(lr_inv = np.tile(L, len(tr))))\n",
    "    # The rest of utterances we have to augment will randomly time-streched\n",
    "    stretch_utt = speech_len - len(tr)\n",
    "    stretch  = np.concatenate((np.zeros(len(tr)), np.random.uniform(low=0.9, high=1.1, size=(stretch_utt))))\n",
    "    tr = pd.concat([tr, tr[0:stretch_utt]])\n",
    "    tr.insert(11, \"stretch\", stretch, True)\n",
    "    tr = tr.reset_index(drop=True)\n",
    "    tr = tr.rename(columns={'audio_path': 'noise_path'})\n",
    "    tr = tr.rename(columns={'split': 'wham_split'})\n",
    "    return tr\n",
    "\n",
    "def crop_wham_test_set(tr, speech_len, fs):\n",
    "    tr = tr.reset_index(drop=True)\n",
    "    tr.insert(2, \"len_samp\", [x[0] for x in list(tr['shape'])], True)\n",
    "    tr.insert(2, \"len_s\", [x[0]/fs for x in list(tr['shape'])], True)\n",
    "    tr = tr[tr.len_s > 4.]\n",
    "    tr = tr[:speech_len]\n",
    "    tr = tr.reset_index(drop=True)\n",
    "    tr.insert(2, \"chunk\", [0]*len(tr))\n",
    "    tr.insert(3, \"num_chunks\", [1]*len(tr))\n",
    "    tr.insert(9, \"phase_inv\", [False]*len(tr))\n",
    "    tr.insert(10, \"lr_inv\", [False]*len(tr))\n",
    "    tr.insert(11, \"stretch\", np.zeros(len(tr)))\n",
    "    tr = tr.rename(columns={'audio_path': 'noise_path'})\n",
    "    tr = tr.rename(columns={'split': 'wham_split'})\n",
    "    return tr"
   ]
  },
  {
   "cell_type": "code",
   "execution_count": 8,
   "id": "a31aab8a",
   "metadata": {},
   "outputs": [],
   "source": [
    "tr = augment_wham_train_set(df_n[df_n['split']=='tr'], len(df_s[df_s['split']=='train']), fs)\n",
    "cv = crop_wham_test_set(df_n[df_n['split']=='cv'], len(df_s[df_s['split']=='dev']), fs)\n",
    "tt = crop_wham_test_set(df_n[df_n['split']=='tt'], len(df_s[df_s['split']=='test']), fs)"
   ]
  },
  {
   "cell_type": "code",
   "execution_count": 9,
   "id": "18ef54fe",
   "metadata": {},
   "outputs": [],
   "source": [
    "aug_wham = pd.concat([tr, tt, cv], axis=0)\n",
    "aug_wham = aug_wham.reset_index(drop=True)"
   ]
  },
  {
   "cell_type": "code",
   "execution_count": 10,
   "id": "6bc93d16",
   "metadata": {},
   "outputs": [],
   "source": [
    "# now we merge the augmented wham metadata with the MLS-spanish metadata\n",
    "df = pd.concat([df_s, aug_wham], axis=1)"
   ]
  },
  {
   "cell_type": "code",
   "execution_count": 11,
   "id": "f1f3d7d0",
   "metadata": {},
   "outputs": [
    {
     "data": {
      "text/html": [
       "<div>\n",
       "<style scoped>\n",
       "    .dataframe tbody tr th:only-of-type {\n",
       "        vertical-align: middle;\n",
       "    }\n",
       "\n",
       "    .dataframe tbody tr th {\n",
       "        vertical-align: top;\n",
       "    }\n",
       "\n",
       "    .dataframe thead th {\n",
       "        text-align: right;\n",
       "    }\n",
       "</style>\n",
       "<table border=\"1\" class=\"dataframe\">\n",
       "  <thead>\n",
       "    <tr style=\"text-align: right;\">\n",
       "      <th></th>\n",
       "      <th>split</th>\n",
       "      <th>speaker</th>\n",
       "      <th>book</th>\n",
       "      <th>audio_path</th>\n",
       "      <th>gender</th>\n",
       "      <th>wham_split</th>\n",
       "      <th>noise_path</th>\n",
       "      <th>chunk</th>\n",
       "      <th>num_chunks</th>\n",
       "      <th>len_s</th>\n",
       "      <th>len_samp</th>\n",
       "      <th>size_mb</th>\n",
       "      <th>fs</th>\n",
       "      <th>shape</th>\n",
       "      <th>phase_inv</th>\n",
       "      <th>lr_inv</th>\n",
       "      <th>stretch</th>\n",
       "    </tr>\n",
       "  </thead>\n",
       "  <tbody>\n",
       "    <tr>\n",
       "      <th>0</th>\n",
       "      <td>train</td>\n",
       "      <td>8688</td>\n",
       "      <td>8509</td>\n",
       "      <td>/home/ubuntu/Data/mls_spanish/train/audio/8688...</td>\n",
       "      <td>M</td>\n",
       "      <td>tr</td>\n",
       "      <td>/home/ubuntu/Data/wham/wham_noise/tr/012o030z_...</td>\n",
       "      <td>0</td>\n",
       "      <td>2</td>\n",
       "      <td>9.290938</td>\n",
       "      <td>148655</td>\n",
       "      <td>1.134232</td>\n",
       "      <td>16000</td>\n",
       "      <td>(148655, 2)</td>\n",
       "      <td>False</td>\n",
       "      <td>False</td>\n",
       "      <td>0.0</td>\n",
       "    </tr>\n",
       "    <tr>\n",
       "      <th>1</th>\n",
       "      <td>train</td>\n",
       "      <td>8688</td>\n",
       "      <td>8509</td>\n",
       "      <td>/home/ubuntu/Data/mls_spanish/train/audio/8688...</td>\n",
       "      <td>M</td>\n",
       "      <td>tr</td>\n",
       "      <td>/home/ubuntu/Data/wham/wham_noise/tr/012o030z_...</td>\n",
       "      <td>0</td>\n",
       "      <td>2</td>\n",
       "      <td>9.290938</td>\n",
       "      <td>148655</td>\n",
       "      <td>1.134232</td>\n",
       "      <td>16000</td>\n",
       "      <td>(148655, 2)</td>\n",
       "      <td>False</td>\n",
       "      <td>True</td>\n",
       "      <td>0.0</td>\n",
       "    </tr>\n",
       "    <tr>\n",
       "      <th>2</th>\n",
       "      <td>train</td>\n",
       "      <td>8688</td>\n",
       "      <td>8509</td>\n",
       "      <td>/home/ubuntu/Data/mls_spanish/train/audio/8688...</td>\n",
       "      <td>M</td>\n",
       "      <td>tr</td>\n",
       "      <td>/home/ubuntu/Data/wham/wham_noise/tr/012o030z_...</td>\n",
       "      <td>0</td>\n",
       "      <td>2</td>\n",
       "      <td>9.290938</td>\n",
       "      <td>148655</td>\n",
       "      <td>1.134232</td>\n",
       "      <td>16000</td>\n",
       "      <td>(148655, 2)</td>\n",
       "      <td>True</td>\n",
       "      <td>False</td>\n",
       "      <td>0.0</td>\n",
       "    </tr>\n",
       "    <tr>\n",
       "      <th>3</th>\n",
       "      <td>train</td>\n",
       "      <td>8688</td>\n",
       "      <td>8509</td>\n",
       "      <td>/home/ubuntu/Data/mls_spanish/train/audio/8688...</td>\n",
       "      <td>M</td>\n",
       "      <td>tr</td>\n",
       "      <td>/home/ubuntu/Data/wham/wham_noise/tr/012o030z_...</td>\n",
       "      <td>0</td>\n",
       "      <td>2</td>\n",
       "      <td>9.290938</td>\n",
       "      <td>148655</td>\n",
       "      <td>1.134232</td>\n",
       "      <td>16000</td>\n",
       "      <td>(148655, 2)</td>\n",
       "      <td>True</td>\n",
       "      <td>True</td>\n",
       "      <td>0.0</td>\n",
       "    </tr>\n",
       "    <tr>\n",
       "      <th>4</th>\n",
       "      <td>train</td>\n",
       "      <td>8688</td>\n",
       "      <td>8509</td>\n",
       "      <td>/home/ubuntu/Data/mls_spanish/train/audio/8688...</td>\n",
       "      <td>M</td>\n",
       "      <td>tr</td>\n",
       "      <td>/home/ubuntu/Data/wham/wham_noise/tr/012o030z_...</td>\n",
       "      <td>1</td>\n",
       "      <td>2</td>\n",
       "      <td>9.290938</td>\n",
       "      <td>148655</td>\n",
       "      <td>1.134232</td>\n",
       "      <td>16000</td>\n",
       "      <td>(148655, 2)</td>\n",
       "      <td>False</td>\n",
       "      <td>False</td>\n",
       "      <td>0.0</td>\n",
       "    </tr>\n",
       "    <tr>\n",
       "      <th>...</th>\n",
       "      <td>...</td>\n",
       "      <td>...</td>\n",
       "      <td>...</td>\n",
       "      <td>...</td>\n",
       "      <td>...</td>\n",
       "      <td>...</td>\n",
       "      <td>...</td>\n",
       "      <td>...</td>\n",
       "      <td>...</td>\n",
       "      <td>...</td>\n",
       "      <td>...</td>\n",
       "      <td>...</td>\n",
       "      <td>...</td>\n",
       "      <td>...</td>\n",
       "      <td>...</td>\n",
       "      <td>...</td>\n",
       "      <td>...</td>\n",
       "    </tr>\n",
       "    <tr>\n",
       "      <th>225489</th>\n",
       "      <td>dev</td>\n",
       "      <td>2592</td>\n",
       "      <td>1378</td>\n",
       "      <td>/home/ubuntu/Data/mls_spanish/dev/audio/2592/1...</td>\n",
       "      <td>F</td>\n",
       "      <td>cv</td>\n",
       "      <td>/home/ubuntu/Data/wham/wham_noise/cv/01vo030s_...</td>\n",
       "      <td>0</td>\n",
       "      <td>1</td>\n",
       "      <td>10.816313</td>\n",
       "      <td>173061</td>\n",
       "      <td>1.320435</td>\n",
       "      <td>16000</td>\n",
       "      <td>(173061, 2)</td>\n",
       "      <td>False</td>\n",
       "      <td>False</td>\n",
       "      <td>0.0</td>\n",
       "    </tr>\n",
       "    <tr>\n",
       "      <th>225490</th>\n",
       "      <td>dev</td>\n",
       "      <td>2592</td>\n",
       "      <td>1378</td>\n",
       "      <td>/home/ubuntu/Data/mls_spanish/dev/audio/2592/1...</td>\n",
       "      <td>F</td>\n",
       "      <td>cv</td>\n",
       "      <td>/home/ubuntu/Data/wham/wham_noise/cv/40no0304_...</td>\n",
       "      <td>0</td>\n",
       "      <td>1</td>\n",
       "      <td>13.52325</td>\n",
       "      <td>216372</td>\n",
       "      <td>1.650871</td>\n",
       "      <td>16000</td>\n",
       "      <td>(216372, 2)</td>\n",
       "      <td>False</td>\n",
       "      <td>False</td>\n",
       "      <td>0.0</td>\n",
       "    </tr>\n",
       "    <tr>\n",
       "      <th>225491</th>\n",
       "      <td>dev</td>\n",
       "      <td>2592</td>\n",
       "      <td>1378</td>\n",
       "      <td>/home/ubuntu/Data/mls_spanish/dev/audio/2592/1...</td>\n",
       "      <td>F</td>\n",
       "      <td>cv</td>\n",
       "      <td>/home/ubuntu/Data/wham/wham_noise/cv/01ko030u_...</td>\n",
       "      <td>0</td>\n",
       "      <td>1</td>\n",
       "      <td>14.284625</td>\n",
       "      <td>228554</td>\n",
       "      <td>1.743813</td>\n",
       "      <td>16000</td>\n",
       "      <td>(228554, 2)</td>\n",
       "      <td>False</td>\n",
       "      <td>False</td>\n",
       "      <td>0.0</td>\n",
       "    </tr>\n",
       "    <tr>\n",
       "      <th>225492</th>\n",
       "      <td>dev</td>\n",
       "      <td>2592</td>\n",
       "      <td>1378</td>\n",
       "      <td>/home/ubuntu/Data/mls_spanish/dev/audio/2592/1...</td>\n",
       "      <td>F</td>\n",
       "      <td>cv</td>\n",
       "      <td>/home/ubuntu/Data/wham/wham_noise/cv/014c0208_...</td>\n",
       "      <td>0</td>\n",
       "      <td>1</td>\n",
       "      <td>6.931</td>\n",
       "      <td>110896</td>\n",
       "      <td>0.846153</td>\n",
       "      <td>16000</td>\n",
       "      <td>(110896, 2)</td>\n",
       "      <td>False</td>\n",
       "      <td>False</td>\n",
       "      <td>0.0</td>\n",
       "    </tr>\n",
       "    <tr>\n",
       "      <th>225493</th>\n",
       "      <td>dev</td>\n",
       "      <td>2592</td>\n",
       "      <td>1378</td>\n",
       "      <td>/home/ubuntu/Data/mls_spanish/dev/audio/2592/1...</td>\n",
       "      <td>F</td>\n",
       "      <td>cv</td>\n",
       "      <td>/home/ubuntu/Data/wham/wham_noise/cv/40mo030m_...</td>\n",
       "      <td>0</td>\n",
       "      <td>1</td>\n",
       "      <td>13.015875</td>\n",
       "      <td>208254</td>\n",
       "      <td>1.588936</td>\n",
       "      <td>16000</td>\n",
       "      <td>(208254, 2)</td>\n",
       "      <td>False</td>\n",
       "      <td>False</td>\n",
       "      <td>0.0</td>\n",
       "    </tr>\n",
       "  </tbody>\n",
       "</table>\n",
       "<p>225494 rows × 17 columns</p>\n",
       "</div>"
      ],
      "text/plain": [
       "        split speaker  book  \\\n",
       "0       train    8688  8509   \n",
       "1       train    8688  8509   \n",
       "2       train    8688  8509   \n",
       "3       train    8688  8509   \n",
       "4       train    8688  8509   \n",
       "...       ...     ...   ...   \n",
       "225489    dev    2592  1378   \n",
       "225490    dev    2592  1378   \n",
       "225491    dev    2592  1378   \n",
       "225492    dev    2592  1378   \n",
       "225493    dev    2592  1378   \n",
       "\n",
       "                                               audio_path gender wham_split  \\\n",
       "0       /home/ubuntu/Data/mls_spanish/train/audio/8688...      M         tr   \n",
       "1       /home/ubuntu/Data/mls_spanish/train/audio/8688...      M         tr   \n",
       "2       /home/ubuntu/Data/mls_spanish/train/audio/8688...      M         tr   \n",
       "3       /home/ubuntu/Data/mls_spanish/train/audio/8688...      M         tr   \n",
       "4       /home/ubuntu/Data/mls_spanish/train/audio/8688...      M         tr   \n",
       "...                                                   ...    ...        ...   \n",
       "225489  /home/ubuntu/Data/mls_spanish/dev/audio/2592/1...      F         cv   \n",
       "225490  /home/ubuntu/Data/mls_spanish/dev/audio/2592/1...      F         cv   \n",
       "225491  /home/ubuntu/Data/mls_spanish/dev/audio/2592/1...      F         cv   \n",
       "225492  /home/ubuntu/Data/mls_spanish/dev/audio/2592/1...      F         cv   \n",
       "225493  /home/ubuntu/Data/mls_spanish/dev/audio/2592/1...      F         cv   \n",
       "\n",
       "                                               noise_path chunk num_chunks  \\\n",
       "0       /home/ubuntu/Data/wham/wham_noise/tr/012o030z_...     0          2   \n",
       "1       /home/ubuntu/Data/wham/wham_noise/tr/012o030z_...     0          2   \n",
       "2       /home/ubuntu/Data/wham/wham_noise/tr/012o030z_...     0          2   \n",
       "3       /home/ubuntu/Data/wham/wham_noise/tr/012o030z_...     0          2   \n",
       "4       /home/ubuntu/Data/wham/wham_noise/tr/012o030z_...     1          2   \n",
       "...                                                   ...   ...        ...   \n",
       "225489  /home/ubuntu/Data/wham/wham_noise/cv/01vo030s_...     0          1   \n",
       "225490  /home/ubuntu/Data/wham/wham_noise/cv/40no0304_...     0          1   \n",
       "225491  /home/ubuntu/Data/wham/wham_noise/cv/01ko030u_...     0          1   \n",
       "225492  /home/ubuntu/Data/wham/wham_noise/cv/014c0208_...     0          1   \n",
       "225493  /home/ubuntu/Data/wham/wham_noise/cv/40mo030m_...     0          1   \n",
       "\n",
       "            len_s len_samp   size_mb     fs        shape phase_inv  lr_inv  \\\n",
       "0        9.290938   148655  1.134232  16000  (148655, 2)     False   False   \n",
       "1        9.290938   148655  1.134232  16000  (148655, 2)     False    True   \n",
       "2        9.290938   148655  1.134232  16000  (148655, 2)      True   False   \n",
       "3        9.290938   148655  1.134232  16000  (148655, 2)      True    True   \n",
       "4        9.290938   148655  1.134232  16000  (148655, 2)     False   False   \n",
       "...           ...      ...       ...    ...          ...       ...     ...   \n",
       "225489  10.816313   173061  1.320435  16000  (173061, 2)     False   False   \n",
       "225490   13.52325   216372  1.650871  16000  (216372, 2)     False   False   \n",
       "225491  14.284625   228554  1.743813  16000  (228554, 2)     False   False   \n",
       "225492      6.931   110896  0.846153  16000  (110896, 2)     False   False   \n",
       "225493  13.015875   208254  1.588936  16000  (208254, 2)     False   False   \n",
       "\n",
       "        stretch  \n",
       "0           0.0  \n",
       "1           0.0  \n",
       "2           0.0  \n",
       "3           0.0  \n",
       "4           0.0  \n",
       "...         ...  \n",
       "225489      0.0  \n",
       "225490      0.0  \n",
       "225491      0.0  \n",
       "225492      0.0  \n",
       "225493      0.0  \n",
       "\n",
       "[225494 rows x 17 columns]"
      ]
     },
     "execution_count": 11,
     "metadata": {},
     "output_type": "execute_result"
    }
   ],
   "source": [
    "df"
   ]
  },
  {
   "cell_type": "code",
   "execution_count": 12,
   "id": "debfea90",
   "metadata": {},
   "outputs": [],
   "source": [
    "# import my modules (helpers.py where I stored all the functions):\n",
    "import helpers as hlp\n",
    "import importlib\n",
    "importlib.reload(hlp);\n",
    "\n",
    "head_orient_azi = np.random.uniform(low = -45, high = 45, size = len(df))\n",
    "head_orient_ele = np.random.uniform(low = -10, high = 10, size = len(df))\n",
    "\n",
    "angle = np.random.uniform(low = -45, high = 45, size = len(df))\n",
    "dist = np.random.uniform(low = 0.5, high = 3, size = len(df))\n",
    "snr = np.random.uniform(low = -6, high = 6, size = len(df))"
   ]
  },
  {
   "cell_type": "code",
   "execution_count": 13,
   "id": "b8bb743b",
   "metadata": {},
   "outputs": [],
   "source": [
    "room_x = np.random.uniform(low = 2., high = 30., size = len(df))\n",
    "room_y = np.random.uniform(low = 2., high = 30., size = len(df))\n",
    "room_z = np.random.uniform(low = 2.5, high = 5., size = len(df))\n",
    "np.random.shuffle(room_x)\n",
    "np.random.shuffle(room_y)\n",
    "np.random.shuffle(room_z)"
   ]
  },
  {
   "cell_type": "code",
   "execution_count": 14,
   "id": "4d52c430",
   "metadata": {},
   "outputs": [],
   "source": [
    "t60s =  np.random.uniform(low = .1, high = 1., size = len(df))\n",
    "t60s = np.sort(t60s)\n",
    "volumes = room_x * room_y * room_z\n",
    "volumes = np.sort(volumes)\n",
    "dist = np.sort(dist)\n",
    "perm = np.random.permutation(len(volumes))\n",
    "room_x = room_x[perm]\n",
    "room_y = room_y[perm]\n",
    "room_z = room_z[perm]\n",
    "dist = dist[perm]\n",
    "t60s = t60s[perm]"
   ]
  },
  {
   "cell_type": "code",
   "execution_count": 15,
   "id": "de951870",
   "metadata": {},
   "outputs": [],
   "source": [
    "head_pos = []\n",
    "for k in range(len(room_x)):\n",
    "    head_pos.append(np.array([np.random.uniform(low = 0.35*room_x[k], high = 0.65*room_x[k]),\n",
    "                        np.random.uniform(low = 0.35*room_y[k], high = 0.65*room_y[k]),\n",
    "                        np.random.uniform(low = 1., high = 2.)]))"
   ]
  },
  {
   "cell_type": "code",
   "execution_count": 16,
   "id": "3ad33695",
   "metadata": {},
   "outputs": [],
   "source": [
    "head_pos = np.array(head_pos)"
   ]
  },
  {
   "cell_type": "code",
   "execution_count": 17,
   "id": "d7e713e0",
   "metadata": {},
   "outputs": [],
   "source": [
    "room = np.array((room_x, room_y, room_z)).T"
   ]
  },
  {
   "cell_type": "code",
   "execution_count": 18,
   "id": "60acff81",
   "metadata": {},
   "outputs": [],
   "source": [
    "target_pos = []\n",
    "for k in range(len(room_x)):\n",
    "    new_target_pos, new_head_pos = hlp.place_on_circle_in_room(head_pos[k], dist[k], \n",
    "                                                               angle[k]+head_orient_azi[k], room[k])\n",
    "    head_pos[k] = new_head_pos\n",
    "    target_pos.append(new_target_pos)\n"
   ]
  },
  {
   "cell_type": "code",
   "execution_count": 19,
   "id": "ca0975b6",
   "metadata": {},
   "outputs": [],
   "source": [
    "target_pos = np.squeeze(np.array(target_pos))"
   ]
  },
  {
   "cell_type": "code",
   "execution_count": 20,
   "id": "08830e6d",
   "metadata": {},
   "outputs": [
    {
     "data": {
      "text/plain": [
       "True"
      ]
     },
     "execution_count": 20,
     "metadata": {},
     "output_type": "execute_result"
    }
   ],
   "source": [
    "# Checks:\n",
    "np.all(target_pos < room) # all targets are in the room"
   ]
  },
  {
   "cell_type": "code",
   "execution_count": 21,
   "id": "7e1f5f59",
   "metadata": {},
   "outputs": [
    {
     "data": {
      "text/plain": [
       "True"
      ]
     },
     "execution_count": 21,
     "metadata": {},
     "output_type": "execute_result"
    }
   ],
   "source": [
    "np.all(head_pos < room) # all heads are in the room"
   ]
  },
  {
   "cell_type": "code",
   "execution_count": 22,
   "id": "53ea9daa",
   "metadata": {},
   "outputs": [],
   "source": [
    "# now let's check the ears:\n",
    "ears_pos = []\n",
    "for k in range(head_pos.shape[0]):\n",
    "    ears_pos.append(np.array(hlp.head_2_ku_ears(head_pos[k], np.array([head_orient_azi[k],head_orient_ele[k]]))))"
   ]
  },
  {
   "cell_type": "code",
   "execution_count": 23,
   "id": "2c04f0eb",
   "metadata": {},
   "outputs": [],
   "source": [
    "ears_pos = np.array(ears_pos)"
   ]
  },
  {
   "cell_type": "code",
   "execution_count": 24,
   "id": "44943679",
   "metadata": {},
   "outputs": [
    {
     "data": {
      "text/plain": [
       "(225494, 2, 3)"
      ]
     },
     "execution_count": 24,
     "metadata": {},
     "output_type": "execute_result"
    }
   ],
   "source": [
    "ears_pos.shape"
   ]
  },
  {
   "cell_type": "code",
   "execution_count": 25,
   "id": "5e078be3",
   "metadata": {},
   "outputs": [
    {
     "data": {
      "text/plain": [
       "True"
      ]
     },
     "execution_count": 25,
     "metadata": {},
     "output_type": "execute_result"
    }
   ],
   "source": [
    "np.all(ears_pos[:, 0, :] < room) # all left ears are in the room"
   ]
  },
  {
   "cell_type": "code",
   "execution_count": 26,
   "id": "f72fb7c7",
   "metadata": {},
   "outputs": [
    {
     "data": {
      "text/plain": [
       "True"
      ]
     },
     "execution_count": 26,
     "metadata": {},
     "output_type": "execute_result"
    }
   ],
   "source": [
    "np.all(ears_pos[:, 1, :] < room) # all right are in the room"
   ]
  },
  {
   "cell_type": "code",
   "execution_count": 27,
   "id": "b5550b20",
   "metadata": {},
   "outputs": [
    {
     "data": {
      "text/plain": [
       "True"
      ]
     },
     "execution_count": 27,
     "metadata": {},
     "output_type": "execute_result"
    }
   ],
   "source": [
    "# final MINIMUM distance between head and target (check we don't have an intra-craneal target)\n",
    "min(np.sqrt(np.sum((target_pos - head_pos)**2, axis=1))) > 0.0875 * 2"
   ]
  },
  {
   "cell_type": "code",
   "execution_count": 28,
   "id": "d6a36857",
   "metadata": {},
   "outputs": [
    {
     "data": {
      "text/plain": [
       "0.6781535705990436"
      ]
     },
     "execution_count": 28,
     "metadata": {},
     "output_type": "execute_result"
    }
   ],
   "source": [
    "# minimum distance of ears against a wall\n",
    "min ( min(room[:, 0] - ears_pos[:, 0, 0]), min(room[:, 0] - ears_pos[:, 1, 0]))"
   ]
  },
  {
   "cell_type": "code",
   "execution_count": 29,
   "id": "fd075f83",
   "metadata": {},
   "outputs": [
    {
     "data": {
      "text/plain": [
       "0.6285144715111923"
      ]
     },
     "execution_count": 29,
     "metadata": {},
     "output_type": "execute_result"
    }
   ],
   "source": [
    "min ( min(room[:, 1] - ears_pos[:, 0, 1]), min(room[:, 1] - ears_pos[:, 1, 1]))"
   ]
  },
  {
   "cell_type": "code",
   "execution_count": 30,
   "id": "d6fa0b38",
   "metadata": {},
   "outputs": [
    {
     "data": {
      "text/plain": [
       "0.5026589967829618"
      ]
     },
     "execution_count": 30,
     "metadata": {},
     "output_type": "execute_result"
    }
   ],
   "source": [
    "min ( min(room[:, 2] - ears_pos[:, 0, 2]), min(room[:, 2] - ears_pos[:, 1, 2]))"
   ]
  },
  {
   "cell_type": "code",
   "execution_count": 31,
   "id": "bc63ec75",
   "metadata": {},
   "outputs": [
    {
     "data": {
      "text/plain": [
       "(225494, 3)"
      ]
     },
     "execution_count": 31,
     "metadata": {},
     "output_type": "execute_result"
    }
   ],
   "source": [
    "target_pos.shape"
   ]
  },
  {
   "cell_type": "code",
   "execution_count": 32,
   "id": "9bf9bd91",
   "metadata": {},
   "outputs": [
    {
     "data": {
      "text/plain": [
       "(225494, 3)"
      ]
     },
     "execution_count": 32,
     "metadata": {},
     "output_type": "execute_result"
    }
   ],
   "source": [
    "room.shape"
   ]
  },
  {
   "cell_type": "code",
   "execution_count": 33,
   "id": "1462969a",
   "metadata": {},
   "outputs": [
    {
     "data": {
      "text/plain": [
       "0.2000003058907316"
      ]
     },
     "execution_count": 33,
     "metadata": {},
     "output_type": "execute_result"
    }
   ],
   "source": [
    "# minimum distance of targets against a wall\n",
    "min(min(room[:, 0] - target_pos[:, 0]), min(room[:, 1] - target_pos[:, 1]), min(room[:, 2] - target_pos[:, 2]))"
   ]
  },
  {
   "cell_type": "code",
   "execution_count": 34,
   "id": "c6ad8019",
   "metadata": {},
   "outputs": [],
   "source": [
    "df.insert(17, \"room_x\", room[:, 0])\n",
    "df.insert(18, \"room_y\", room[:, 1])\n",
    "df.insert(19, \"room_z\", room[:, 2])\n",
    "df.insert(20, \"rt60\", t60s)\n",
    "df.insert(21, \"headC_x\", head_pos[:,0])\n",
    "df.insert(22, \"headC_y\", head_pos[:,1])\n",
    "df.insert(23, \"headC_z\", head_pos[:,2])\n",
    "df.insert(24, \"src_x\", target_pos[:,0])\n",
    "df.insert(25, \"src_y\", target_pos[:,1])\n",
    "df.insert(26, \"src_z\", target_pos[:,2])\n",
    "df.insert(27, \"headOrient_azi\", head_orient_azi)\n",
    "df.insert(28, \"headOrient_ele\", head_orient_ele)"
   ]
  },
  {
   "cell_type": "code",
   "execution_count": 35,
   "id": "f7f31f9c",
   "metadata": {},
   "outputs": [
    {
     "name": "stderr",
     "output_type": "stream",
     "text": [
      "  0%|                                    | 711/225494 [01:07<5:56:48, 10.50it/s]\n"
     ]
    },
    {
     "ename": "KeyboardInterrupt",
     "evalue": "",
     "output_type": "error",
     "traceback": [
      "\u001b[0;31m---------------------------------------------------------------------------\u001b[0m",
      "\u001b[0;31mKeyboardInterrupt\u001b[0m                         Traceback (most recent call last)",
      "Cell \u001b[0;32mIn[35], line 6\u001b[0m\n\u001b[1;32m      3\u001b[0m hlp\u001b[38;5;241m.\u001b[39mplot_scene(room[k], head_pos[k], np\u001b[38;5;241m.\u001b[39marray([head_orient_azi[k], head_orient_ele[k]])\n\u001b[1;32m      4\u001b[0m                , ears_pos[k],[target_pos[k]], perspective\u001b[38;5;241m=\u001b[39m\u001b[38;5;124m\"\u001b[39m\u001b[38;5;124mxy\u001b[39m\u001b[38;5;124m\"\u001b[39m)\n\u001b[1;32m      5\u001b[0m plt\u001b[38;5;241m.\u001b[39mtitle(\u001b[38;5;28mstr\u001b[39m(head_orient_azi[k])\u001b[38;5;241m+\u001b[39m \u001b[38;5;124m'\u001b[39m\u001b[38;5;124m_\u001b[39m\u001b[38;5;124m'\u001b[39m \u001b[38;5;241m+\u001b[39m \u001b[38;5;28mstr\u001b[39m(angle[k]))\n\u001b[0;32m----> 6\u001b[0m \u001b[43mplt\u001b[49m\u001b[38;5;241;43m.\u001b[39;49m\u001b[43msavefig\u001b[49m\u001b[43m(\u001b[49m\u001b[43mpjoin\u001b[49m\u001b[43m(\u001b[49m\u001b[38;5;124;43m'\u001b[39;49m\u001b[38;5;124;43msituation_plots_rot\u001b[39;49m\u001b[38;5;124;43m'\u001b[39;49m\u001b[43m,\u001b[49m\u001b[43m \u001b[49m\u001b[43mos\u001b[49m\u001b[38;5;241;43m.\u001b[39;49m\u001b[43mpath\u001b[49m\u001b[38;5;241;43m.\u001b[39;49m\u001b[43msplitext\u001b[49m\u001b[43m(\u001b[49m\u001b[43mos\u001b[49m\u001b[38;5;241;43m.\u001b[39;49m\u001b[43mpath\u001b[49m\u001b[38;5;241;43m.\u001b[39;49m\u001b[43mbasename\u001b[49m\u001b[43m(\u001b[49m\u001b[43mdf\u001b[49m\u001b[38;5;241;43m.\u001b[39;49m\u001b[43miloc\u001b[49m\u001b[43m[\u001b[49m\u001b[43mk\u001b[49m\u001b[43m]\u001b[49m\u001b[38;5;241;43m.\u001b[39;49m\u001b[43maudio_path\u001b[49m\u001b[43m)\u001b[49m\u001b[43m)\u001b[49m\u001b[43m[\u001b[49m\u001b[38;5;241;43m0\u001b[39;49m\u001b[43m]\u001b[49m\u001b[38;5;241;43m+\u001b[39;49m\u001b[38;5;124;43m'\u001b[39;49m\u001b[38;5;124;43m.pdf\u001b[39;49m\u001b[38;5;124;43m'\u001b[39;49m\u001b[43m)\u001b[49m\u001b[43m)\u001b[49m\n\u001b[1;32m      7\u001b[0m plt\u001b[38;5;241m.\u001b[39mclose(\u001b[38;5;124m'\u001b[39m\u001b[38;5;124mall\u001b[39m\u001b[38;5;124m'\u001b[39m)\n",
      "File \u001b[0;32m~/enric/venvs/LibriMix3D/lib/python3.8/site-packages/matplotlib/pyplot.py:977\u001b[0m, in \u001b[0;36msavefig\u001b[0;34m(*args, **kwargs)\u001b[0m\n\u001b[1;32m    974\u001b[0m \u001b[38;5;129m@_copy_docstring_and_deprecators\u001b[39m(Figure\u001b[38;5;241m.\u001b[39msavefig)\n\u001b[1;32m    975\u001b[0m \u001b[38;5;28;01mdef\u001b[39;00m \u001b[38;5;21msavefig\u001b[39m(\u001b[38;5;241m*\u001b[39margs, \u001b[38;5;241m*\u001b[39m\u001b[38;5;241m*\u001b[39mkwargs):\n\u001b[1;32m    976\u001b[0m     fig \u001b[38;5;241m=\u001b[39m gcf()\n\u001b[0;32m--> 977\u001b[0m     res \u001b[38;5;241m=\u001b[39m \u001b[43mfig\u001b[49m\u001b[38;5;241;43m.\u001b[39;49m\u001b[43msavefig\u001b[49m\u001b[43m(\u001b[49m\u001b[38;5;241;43m*\u001b[39;49m\u001b[43margs\u001b[49m\u001b[43m,\u001b[49m\u001b[43m \u001b[49m\u001b[38;5;241;43m*\u001b[39;49m\u001b[38;5;241;43m*\u001b[39;49m\u001b[43mkwargs\u001b[49m\u001b[43m)\u001b[49m\n\u001b[1;32m    978\u001b[0m     fig\u001b[38;5;241m.\u001b[39mcanvas\u001b[38;5;241m.\u001b[39mdraw_idle()   \u001b[38;5;66;03m# need this if 'transparent=True' to reset colors\u001b[39;00m\n\u001b[1;32m    979\u001b[0m     \u001b[38;5;28;01mreturn\u001b[39;00m res\n",
      "File \u001b[0;32m~/enric/venvs/LibriMix3D/lib/python3.8/site-packages/matplotlib/figure.py:3058\u001b[0m, in \u001b[0;36mFigure.savefig\u001b[0;34m(self, fname, transparent, **kwargs)\u001b[0m\n\u001b[1;32m   3054\u001b[0m     \u001b[38;5;28;01mfor\u001b[39;00m ax \u001b[38;5;129;01min\u001b[39;00m \u001b[38;5;28mself\u001b[39m\u001b[38;5;241m.\u001b[39maxes:\n\u001b[1;32m   3055\u001b[0m         stack\u001b[38;5;241m.\u001b[39menter_context(\n\u001b[1;32m   3056\u001b[0m             ax\u001b[38;5;241m.\u001b[39mpatch\u001b[38;5;241m.\u001b[39m_cm_set(facecolor\u001b[38;5;241m=\u001b[39m\u001b[38;5;124m'\u001b[39m\u001b[38;5;124mnone\u001b[39m\u001b[38;5;124m'\u001b[39m, edgecolor\u001b[38;5;241m=\u001b[39m\u001b[38;5;124m'\u001b[39m\u001b[38;5;124mnone\u001b[39m\u001b[38;5;124m'\u001b[39m))\n\u001b[0;32m-> 3058\u001b[0m \u001b[38;5;28;43mself\u001b[39;49m\u001b[38;5;241;43m.\u001b[39;49m\u001b[43mcanvas\u001b[49m\u001b[38;5;241;43m.\u001b[39;49m\u001b[43mprint_figure\u001b[49m\u001b[43m(\u001b[49m\u001b[43mfname\u001b[49m\u001b[43m,\u001b[49m\u001b[43m \u001b[49m\u001b[38;5;241;43m*\u001b[39;49m\u001b[38;5;241;43m*\u001b[39;49m\u001b[43mkwargs\u001b[49m\u001b[43m)\u001b[49m\n",
      "File \u001b[0;32m~/enric/venvs/LibriMix3D/lib/python3.8/site-packages/matplotlib/backend_bases.py:2319\u001b[0m, in \u001b[0;36mFigureCanvasBase.print_figure\u001b[0;34m(self, filename, dpi, facecolor, edgecolor, orientation, format, bbox_inches, pad_inches, bbox_extra_artists, backend, **kwargs)\u001b[0m\n\u001b[1;32m   2315\u001b[0m \u001b[38;5;28;01mtry\u001b[39;00m:\n\u001b[1;32m   2316\u001b[0m     \u001b[38;5;66;03m# _get_renderer may change the figure dpi (as vector formats\u001b[39;00m\n\u001b[1;32m   2317\u001b[0m     \u001b[38;5;66;03m# force the figure dpi to 72), so we need to set it again here.\u001b[39;00m\n\u001b[1;32m   2318\u001b[0m     \u001b[38;5;28;01mwith\u001b[39;00m cbook\u001b[38;5;241m.\u001b[39m_setattr_cm(\u001b[38;5;28mself\u001b[39m\u001b[38;5;241m.\u001b[39mfigure, dpi\u001b[38;5;241m=\u001b[39mdpi):\n\u001b[0;32m-> 2319\u001b[0m         result \u001b[38;5;241m=\u001b[39m \u001b[43mprint_method\u001b[49m\u001b[43m(\u001b[49m\n\u001b[1;32m   2320\u001b[0m \u001b[43m            \u001b[49m\u001b[43mfilename\u001b[49m\u001b[43m,\u001b[49m\n\u001b[1;32m   2321\u001b[0m \u001b[43m            \u001b[49m\u001b[43mfacecolor\u001b[49m\u001b[38;5;241;43m=\u001b[39;49m\u001b[43mfacecolor\u001b[49m\u001b[43m,\u001b[49m\n\u001b[1;32m   2322\u001b[0m \u001b[43m            \u001b[49m\u001b[43medgecolor\u001b[49m\u001b[38;5;241;43m=\u001b[39;49m\u001b[43medgecolor\u001b[49m\u001b[43m,\u001b[49m\n\u001b[1;32m   2323\u001b[0m \u001b[43m            \u001b[49m\u001b[43morientation\u001b[49m\u001b[38;5;241;43m=\u001b[39;49m\u001b[43morientation\u001b[49m\u001b[43m,\u001b[49m\n\u001b[1;32m   2324\u001b[0m \u001b[43m            \u001b[49m\u001b[43mbbox_inches_restore\u001b[49m\u001b[38;5;241;43m=\u001b[39;49m\u001b[43m_bbox_inches_restore\u001b[49m\u001b[43m,\u001b[49m\n\u001b[1;32m   2325\u001b[0m \u001b[43m            \u001b[49m\u001b[38;5;241;43m*\u001b[39;49m\u001b[38;5;241;43m*\u001b[39;49m\u001b[43mkwargs\u001b[49m\u001b[43m)\u001b[49m\n\u001b[1;32m   2326\u001b[0m \u001b[38;5;28;01mfinally\u001b[39;00m:\n\u001b[1;32m   2327\u001b[0m     \u001b[38;5;28;01mif\u001b[39;00m bbox_inches \u001b[38;5;129;01mand\u001b[39;00m restore_bbox:\n",
      "File \u001b[0;32m~/enric/venvs/LibriMix3D/lib/python3.8/site-packages/matplotlib/backend_bases.py:1648\u001b[0m, in \u001b[0;36m_check_savefig_extra_args.<locals>.wrapper\u001b[0;34m(*args, **kwargs)\u001b[0m\n\u001b[1;32m   1640\u001b[0m     _api\u001b[38;5;241m.\u001b[39mwarn_deprecated(\n\u001b[1;32m   1641\u001b[0m         \u001b[38;5;124m'\u001b[39m\u001b[38;5;124m3.3\u001b[39m\u001b[38;5;124m'\u001b[39m, name\u001b[38;5;241m=\u001b[39mname, removal\u001b[38;5;241m=\u001b[39m\u001b[38;5;124m'\u001b[39m\u001b[38;5;124m3.6\u001b[39m\u001b[38;5;124m'\u001b[39m,\n\u001b[1;32m   1642\u001b[0m         message\u001b[38;5;241m=\u001b[39m\u001b[38;5;124m'\u001b[39m\u001b[38;5;132;01m%(name)s\u001b[39;00m\u001b[38;5;124m() got unexpected keyword argument \u001b[39m\u001b[38;5;124m\"\u001b[39m\u001b[38;5;124m'\u001b[39m\n\u001b[1;32m   1643\u001b[0m                 \u001b[38;5;241m+\u001b[39m arg \u001b[38;5;241m+\u001b[39m \u001b[38;5;124m'\u001b[39m\u001b[38;5;124m\"\u001b[39m\u001b[38;5;124m which is no longer supported as of \u001b[39m\u001b[38;5;124m'\u001b[39m\n\u001b[1;32m   1644\u001b[0m                 \u001b[38;5;124m'\u001b[39m\u001b[38;5;132;01m%(since)s\u001b[39;00m\u001b[38;5;124m and will become an error \u001b[39m\u001b[38;5;124m'\u001b[39m\n\u001b[1;32m   1645\u001b[0m                 \u001b[38;5;124m'\u001b[39m\u001b[38;5;132;01m%(removal)s\u001b[39;00m\u001b[38;5;124m'\u001b[39m)\n\u001b[1;32m   1646\u001b[0m     kwargs\u001b[38;5;241m.\u001b[39mpop(arg)\n\u001b[0;32m-> 1648\u001b[0m \u001b[38;5;28;01mreturn\u001b[39;00m \u001b[43mfunc\u001b[49m\u001b[43m(\u001b[49m\u001b[38;5;241;43m*\u001b[39;49m\u001b[43margs\u001b[49m\u001b[43m,\u001b[49m\u001b[43m \u001b[49m\u001b[38;5;241;43m*\u001b[39;49m\u001b[38;5;241;43m*\u001b[39;49m\u001b[43mkwargs\u001b[49m\u001b[43m)\u001b[49m\n",
      "File \u001b[0;32m~/enric/venvs/LibriMix3D/lib/python3.8/site-packages/matplotlib/_api/deprecation.py:389\u001b[0m, in \u001b[0;36mdelete_parameter.<locals>.wrapper\u001b[0;34m(*inner_args, **inner_kwargs)\u001b[0m\n\u001b[1;32m    384\u001b[0m \u001b[38;5;129m@functools\u001b[39m\u001b[38;5;241m.\u001b[39mwraps(func)\n\u001b[1;32m    385\u001b[0m \u001b[38;5;28;01mdef\u001b[39;00m \u001b[38;5;21mwrapper\u001b[39m(\u001b[38;5;241m*\u001b[39minner_args, \u001b[38;5;241m*\u001b[39m\u001b[38;5;241m*\u001b[39minner_kwargs):\n\u001b[1;32m    386\u001b[0m     \u001b[38;5;28;01mif\u001b[39;00m \u001b[38;5;28mlen\u001b[39m(inner_args) \u001b[38;5;241m<\u001b[39m\u001b[38;5;241m=\u001b[39m name_idx \u001b[38;5;129;01mand\u001b[39;00m name \u001b[38;5;129;01mnot\u001b[39;00m \u001b[38;5;129;01min\u001b[39;00m inner_kwargs:\n\u001b[1;32m    387\u001b[0m         \u001b[38;5;66;03m# Early return in the simple, non-deprecated case (much faster than\u001b[39;00m\n\u001b[1;32m    388\u001b[0m         \u001b[38;5;66;03m# calling bind()).\u001b[39;00m\n\u001b[0;32m--> 389\u001b[0m         \u001b[38;5;28;01mreturn\u001b[39;00m \u001b[43mfunc\u001b[49m\u001b[43m(\u001b[49m\u001b[38;5;241;43m*\u001b[39;49m\u001b[43minner_args\u001b[49m\u001b[43m,\u001b[49m\u001b[43m \u001b[49m\u001b[38;5;241;43m*\u001b[39;49m\u001b[38;5;241;43m*\u001b[39;49m\u001b[43minner_kwargs\u001b[49m\u001b[43m)\u001b[49m\n\u001b[1;32m    390\u001b[0m     arguments \u001b[38;5;241m=\u001b[39m signature\u001b[38;5;241m.\u001b[39mbind(\u001b[38;5;241m*\u001b[39minner_args, \u001b[38;5;241m*\u001b[39m\u001b[38;5;241m*\u001b[39minner_kwargs)\u001b[38;5;241m.\u001b[39marguments\n\u001b[1;32m    391\u001b[0m     \u001b[38;5;28;01mif\u001b[39;00m is_varargs \u001b[38;5;129;01mand\u001b[39;00m arguments\u001b[38;5;241m.\u001b[39mget(name):\n",
      "File \u001b[0;32m~/enric/venvs/LibriMix3D/lib/python3.8/site-packages/matplotlib/backends/backend_pdf.py:2790\u001b[0m, in \u001b[0;36mFigureCanvasPdf.print_pdf\u001b[0;34m(self, filename, dpi, bbox_inches_restore, metadata)\u001b[0m\n\u001b[1;32m   2785\u001b[0m file\u001b[38;5;241m.\u001b[39mnewPage(width, height)\n\u001b[1;32m   2786\u001b[0m renderer \u001b[38;5;241m=\u001b[39m MixedModeRenderer(\n\u001b[1;32m   2787\u001b[0m     \u001b[38;5;28mself\u001b[39m\u001b[38;5;241m.\u001b[39mfigure, width, height, dpi,\n\u001b[1;32m   2788\u001b[0m     RendererPdf(file, dpi, height, width),\n\u001b[1;32m   2789\u001b[0m     bbox_inches_restore\u001b[38;5;241m=\u001b[39mbbox_inches_restore)\n\u001b[0;32m-> 2790\u001b[0m \u001b[38;5;28;43mself\u001b[39;49m\u001b[38;5;241;43m.\u001b[39;49m\u001b[43mfigure\u001b[49m\u001b[38;5;241;43m.\u001b[39;49m\u001b[43mdraw\u001b[49m\u001b[43m(\u001b[49m\u001b[43mrenderer\u001b[49m\u001b[43m)\u001b[49m\n\u001b[1;32m   2791\u001b[0m renderer\u001b[38;5;241m.\u001b[39mfinalize()\n\u001b[1;32m   2792\u001b[0m \u001b[38;5;28;01mif\u001b[39;00m \u001b[38;5;129;01mnot\u001b[39;00m \u001b[38;5;28misinstance\u001b[39m(filename, PdfPages):\n",
      "File \u001b[0;32m~/enric/venvs/LibriMix3D/lib/python3.8/site-packages/matplotlib/artist.py:74\u001b[0m, in \u001b[0;36m_finalize_rasterization.<locals>.draw_wrapper\u001b[0;34m(artist, renderer, *args, **kwargs)\u001b[0m\n\u001b[1;32m     72\u001b[0m \u001b[38;5;129m@wraps\u001b[39m(draw)\n\u001b[1;32m     73\u001b[0m \u001b[38;5;28;01mdef\u001b[39;00m \u001b[38;5;21mdraw_wrapper\u001b[39m(artist, renderer, \u001b[38;5;241m*\u001b[39margs, \u001b[38;5;241m*\u001b[39m\u001b[38;5;241m*\u001b[39mkwargs):\n\u001b[0;32m---> 74\u001b[0m     result \u001b[38;5;241m=\u001b[39m \u001b[43mdraw\u001b[49m\u001b[43m(\u001b[49m\u001b[43martist\u001b[49m\u001b[43m,\u001b[49m\u001b[43m \u001b[49m\u001b[43mrenderer\u001b[49m\u001b[43m,\u001b[49m\u001b[43m \u001b[49m\u001b[38;5;241;43m*\u001b[39;49m\u001b[43margs\u001b[49m\u001b[43m,\u001b[49m\u001b[43m \u001b[49m\u001b[38;5;241;43m*\u001b[39;49m\u001b[38;5;241;43m*\u001b[39;49m\u001b[43mkwargs\u001b[49m\u001b[43m)\u001b[49m\n\u001b[1;32m     75\u001b[0m     \u001b[38;5;28;01mif\u001b[39;00m renderer\u001b[38;5;241m.\u001b[39m_rasterizing:\n\u001b[1;32m     76\u001b[0m         renderer\u001b[38;5;241m.\u001b[39mstop_rasterizing()\n",
      "File \u001b[0;32m~/enric/venvs/LibriMix3D/lib/python3.8/site-packages/matplotlib/artist.py:51\u001b[0m, in \u001b[0;36mallow_rasterization.<locals>.draw_wrapper\u001b[0;34m(artist, renderer)\u001b[0m\n\u001b[1;32m     48\u001b[0m     \u001b[38;5;28;01mif\u001b[39;00m artist\u001b[38;5;241m.\u001b[39mget_agg_filter() \u001b[38;5;129;01mis\u001b[39;00m \u001b[38;5;129;01mnot\u001b[39;00m \u001b[38;5;28;01mNone\u001b[39;00m:\n\u001b[1;32m     49\u001b[0m         renderer\u001b[38;5;241m.\u001b[39mstart_filter()\n\u001b[0;32m---> 51\u001b[0m     \u001b[38;5;28;01mreturn\u001b[39;00m \u001b[43mdraw\u001b[49m\u001b[43m(\u001b[49m\u001b[43martist\u001b[49m\u001b[43m,\u001b[49m\u001b[43m \u001b[49m\u001b[43mrenderer\u001b[49m\u001b[43m)\u001b[49m\n\u001b[1;32m     52\u001b[0m \u001b[38;5;28;01mfinally\u001b[39;00m:\n\u001b[1;32m     53\u001b[0m     \u001b[38;5;28;01mif\u001b[39;00m artist\u001b[38;5;241m.\u001b[39mget_agg_filter() \u001b[38;5;129;01mis\u001b[39;00m \u001b[38;5;129;01mnot\u001b[39;00m \u001b[38;5;28;01mNone\u001b[39;00m:\n",
      "File \u001b[0;32m~/enric/venvs/LibriMix3D/lib/python3.8/site-packages/matplotlib/figure.py:2845\u001b[0m, in \u001b[0;36mFigure.draw\u001b[0;34m(self, renderer)\u001b[0m\n\u001b[1;32m   2842\u001b[0m         \u001b[38;5;66;03m# ValueError can occur when resizing a window.\u001b[39;00m\n\u001b[1;32m   2844\u001b[0m \u001b[38;5;28mself\u001b[39m\u001b[38;5;241m.\u001b[39mpatch\u001b[38;5;241m.\u001b[39mdraw(renderer)\n\u001b[0;32m-> 2845\u001b[0m \u001b[43mmimage\u001b[49m\u001b[38;5;241;43m.\u001b[39;49m\u001b[43m_draw_list_compositing_images\u001b[49m\u001b[43m(\u001b[49m\n\u001b[1;32m   2846\u001b[0m \u001b[43m    \u001b[49m\u001b[43mrenderer\u001b[49m\u001b[43m,\u001b[49m\u001b[43m \u001b[49m\u001b[38;5;28;43mself\u001b[39;49m\u001b[43m,\u001b[49m\u001b[43m \u001b[49m\u001b[43martists\u001b[49m\u001b[43m,\u001b[49m\u001b[43m \u001b[49m\u001b[38;5;28;43mself\u001b[39;49m\u001b[38;5;241;43m.\u001b[39;49m\u001b[43msuppressComposite\u001b[49m\u001b[43m)\u001b[49m\n\u001b[1;32m   2848\u001b[0m \u001b[38;5;28;01mfor\u001b[39;00m sfig \u001b[38;5;129;01min\u001b[39;00m \u001b[38;5;28mself\u001b[39m\u001b[38;5;241m.\u001b[39msubfigs:\n\u001b[1;32m   2849\u001b[0m     sfig\u001b[38;5;241m.\u001b[39mdraw(renderer)\n",
      "File \u001b[0;32m~/enric/venvs/LibriMix3D/lib/python3.8/site-packages/matplotlib/image.py:132\u001b[0m, in \u001b[0;36m_draw_list_compositing_images\u001b[0;34m(renderer, parent, artists, suppress_composite)\u001b[0m\n\u001b[1;32m    130\u001b[0m \u001b[38;5;28;01mif\u001b[39;00m not_composite \u001b[38;5;129;01mor\u001b[39;00m \u001b[38;5;129;01mnot\u001b[39;00m has_images:\n\u001b[1;32m    131\u001b[0m     \u001b[38;5;28;01mfor\u001b[39;00m a \u001b[38;5;129;01min\u001b[39;00m artists:\n\u001b[0;32m--> 132\u001b[0m         \u001b[43ma\u001b[49m\u001b[38;5;241;43m.\u001b[39;49m\u001b[43mdraw\u001b[49m\u001b[43m(\u001b[49m\u001b[43mrenderer\u001b[49m\u001b[43m)\u001b[49m\n\u001b[1;32m    133\u001b[0m \u001b[38;5;28;01melse\u001b[39;00m:\n\u001b[1;32m    134\u001b[0m     \u001b[38;5;66;03m# Composite any adjacent images together\u001b[39;00m\n\u001b[1;32m    135\u001b[0m     image_group \u001b[38;5;241m=\u001b[39m []\n",
      "File \u001b[0;32m~/enric/venvs/LibriMix3D/lib/python3.8/site-packages/matplotlib/artist.py:51\u001b[0m, in \u001b[0;36mallow_rasterization.<locals>.draw_wrapper\u001b[0;34m(artist, renderer)\u001b[0m\n\u001b[1;32m     48\u001b[0m     \u001b[38;5;28;01mif\u001b[39;00m artist\u001b[38;5;241m.\u001b[39mget_agg_filter() \u001b[38;5;129;01mis\u001b[39;00m \u001b[38;5;129;01mnot\u001b[39;00m \u001b[38;5;28;01mNone\u001b[39;00m:\n\u001b[1;32m     49\u001b[0m         renderer\u001b[38;5;241m.\u001b[39mstart_filter()\n\u001b[0;32m---> 51\u001b[0m     \u001b[38;5;28;01mreturn\u001b[39;00m \u001b[43mdraw\u001b[49m\u001b[43m(\u001b[49m\u001b[43martist\u001b[49m\u001b[43m,\u001b[49m\u001b[43m \u001b[49m\u001b[43mrenderer\u001b[49m\u001b[43m)\u001b[49m\n\u001b[1;32m     52\u001b[0m \u001b[38;5;28;01mfinally\u001b[39;00m:\n\u001b[1;32m     53\u001b[0m     \u001b[38;5;28;01mif\u001b[39;00m artist\u001b[38;5;241m.\u001b[39mget_agg_filter() \u001b[38;5;129;01mis\u001b[39;00m \u001b[38;5;129;01mnot\u001b[39;00m \u001b[38;5;28;01mNone\u001b[39;00m:\n",
      "File \u001b[0;32m~/enric/venvs/LibriMix3D/lib/python3.8/site-packages/matplotlib/axes/_base.py:3091\u001b[0m, in \u001b[0;36m_AxesBase.draw\u001b[0;34m(self, renderer)\u001b[0m\n\u001b[1;32m   3088\u001b[0m         a\u001b[38;5;241m.\u001b[39mdraw(renderer)\n\u001b[1;32m   3089\u001b[0m     renderer\u001b[38;5;241m.\u001b[39mstop_rasterizing()\n\u001b[0;32m-> 3091\u001b[0m \u001b[43mmimage\u001b[49m\u001b[38;5;241;43m.\u001b[39;49m\u001b[43m_draw_list_compositing_images\u001b[49m\u001b[43m(\u001b[49m\n\u001b[1;32m   3092\u001b[0m \u001b[43m    \u001b[49m\u001b[43mrenderer\u001b[49m\u001b[43m,\u001b[49m\u001b[43m \u001b[49m\u001b[38;5;28;43mself\u001b[39;49m\u001b[43m,\u001b[49m\u001b[43m \u001b[49m\u001b[43martists\u001b[49m\u001b[43m,\u001b[49m\u001b[43m \u001b[49m\u001b[38;5;28;43mself\u001b[39;49m\u001b[38;5;241;43m.\u001b[39;49m\u001b[43mfigure\u001b[49m\u001b[38;5;241;43m.\u001b[39;49m\u001b[43msuppressComposite\u001b[49m\u001b[43m)\u001b[49m\n\u001b[1;32m   3094\u001b[0m renderer\u001b[38;5;241m.\u001b[39mclose_group(\u001b[38;5;124m'\u001b[39m\u001b[38;5;124maxes\u001b[39m\u001b[38;5;124m'\u001b[39m)\n\u001b[1;32m   3095\u001b[0m \u001b[38;5;28mself\u001b[39m\u001b[38;5;241m.\u001b[39mstale \u001b[38;5;241m=\u001b[39m \u001b[38;5;28;01mFalse\u001b[39;00m\n",
      "File \u001b[0;32m~/enric/venvs/LibriMix3D/lib/python3.8/site-packages/matplotlib/image.py:132\u001b[0m, in \u001b[0;36m_draw_list_compositing_images\u001b[0;34m(renderer, parent, artists, suppress_composite)\u001b[0m\n\u001b[1;32m    130\u001b[0m \u001b[38;5;28;01mif\u001b[39;00m not_composite \u001b[38;5;129;01mor\u001b[39;00m \u001b[38;5;129;01mnot\u001b[39;00m has_images:\n\u001b[1;32m    131\u001b[0m     \u001b[38;5;28;01mfor\u001b[39;00m a \u001b[38;5;129;01min\u001b[39;00m artists:\n\u001b[0;32m--> 132\u001b[0m         \u001b[43ma\u001b[49m\u001b[38;5;241;43m.\u001b[39;49m\u001b[43mdraw\u001b[49m\u001b[43m(\u001b[49m\u001b[43mrenderer\u001b[49m\u001b[43m)\u001b[49m\n\u001b[1;32m    133\u001b[0m \u001b[38;5;28;01melse\u001b[39;00m:\n\u001b[1;32m    134\u001b[0m     \u001b[38;5;66;03m# Composite any adjacent images together\u001b[39;00m\n\u001b[1;32m    135\u001b[0m     image_group \u001b[38;5;241m=\u001b[39m []\n",
      "File \u001b[0;32m~/enric/venvs/LibriMix3D/lib/python3.8/site-packages/matplotlib/artist.py:51\u001b[0m, in \u001b[0;36mallow_rasterization.<locals>.draw_wrapper\u001b[0;34m(artist, renderer)\u001b[0m\n\u001b[1;32m     48\u001b[0m     \u001b[38;5;28;01mif\u001b[39;00m artist\u001b[38;5;241m.\u001b[39mget_agg_filter() \u001b[38;5;129;01mis\u001b[39;00m \u001b[38;5;129;01mnot\u001b[39;00m \u001b[38;5;28;01mNone\u001b[39;00m:\n\u001b[1;32m     49\u001b[0m         renderer\u001b[38;5;241m.\u001b[39mstart_filter()\n\u001b[0;32m---> 51\u001b[0m     \u001b[38;5;28;01mreturn\u001b[39;00m \u001b[43mdraw\u001b[49m\u001b[43m(\u001b[49m\u001b[43martist\u001b[49m\u001b[43m,\u001b[49m\u001b[43m \u001b[49m\u001b[43mrenderer\u001b[49m\u001b[43m)\u001b[49m\n\u001b[1;32m     52\u001b[0m \u001b[38;5;28;01mfinally\u001b[39;00m:\n\u001b[1;32m     53\u001b[0m     \u001b[38;5;28;01mif\u001b[39;00m artist\u001b[38;5;241m.\u001b[39mget_agg_filter() \u001b[38;5;129;01mis\u001b[39;00m \u001b[38;5;129;01mnot\u001b[39;00m \u001b[38;5;28;01mNone\u001b[39;00m:\n",
      "File \u001b[0;32m~/enric/venvs/LibriMix3D/lib/python3.8/site-packages/matplotlib/axis.py:1163\u001b[0m, in \u001b[0;36mAxis.draw\u001b[0;34m(self, renderer, *args, **kwargs)\u001b[0m\n\u001b[1;32m   1159\u001b[0m ticklabelBoxes, ticklabelBoxes2 \u001b[38;5;241m=\u001b[39m \u001b[38;5;28mself\u001b[39m\u001b[38;5;241m.\u001b[39m_get_tick_bboxes(ticks_to_draw,\n\u001b[1;32m   1160\u001b[0m                                                         renderer)\n\u001b[1;32m   1162\u001b[0m \u001b[38;5;28;01mfor\u001b[39;00m tick \u001b[38;5;129;01min\u001b[39;00m ticks_to_draw:\n\u001b[0;32m-> 1163\u001b[0m     \u001b[43mtick\u001b[49m\u001b[38;5;241;43m.\u001b[39;49m\u001b[43mdraw\u001b[49m\u001b[43m(\u001b[49m\u001b[43mrenderer\u001b[49m\u001b[43m)\u001b[49m\n\u001b[1;32m   1165\u001b[0m \u001b[38;5;66;03m# scale up the axis label box to also find the neighbors, not\u001b[39;00m\n\u001b[1;32m   1166\u001b[0m \u001b[38;5;66;03m# just the tick labels that actually overlap note we need a\u001b[39;00m\n\u001b[1;32m   1167\u001b[0m \u001b[38;5;66;03m# *copy* of the axis label box because we don't want to scale\u001b[39;00m\n\u001b[1;32m   1168\u001b[0m \u001b[38;5;66;03m# the actual bbox\u001b[39;00m\n\u001b[1;32m   1170\u001b[0m \u001b[38;5;28mself\u001b[39m\u001b[38;5;241m.\u001b[39m_update_label_position(renderer)\n",
      "File \u001b[0;32m~/enric/venvs/LibriMix3D/lib/python3.8/site-packages/matplotlib/artist.py:51\u001b[0m, in \u001b[0;36mallow_rasterization.<locals>.draw_wrapper\u001b[0;34m(artist, renderer)\u001b[0m\n\u001b[1;32m     48\u001b[0m     \u001b[38;5;28;01mif\u001b[39;00m artist\u001b[38;5;241m.\u001b[39mget_agg_filter() \u001b[38;5;129;01mis\u001b[39;00m \u001b[38;5;129;01mnot\u001b[39;00m \u001b[38;5;28;01mNone\u001b[39;00m:\n\u001b[1;32m     49\u001b[0m         renderer\u001b[38;5;241m.\u001b[39mstart_filter()\n\u001b[0;32m---> 51\u001b[0m     \u001b[38;5;28;01mreturn\u001b[39;00m \u001b[43mdraw\u001b[49m\u001b[43m(\u001b[49m\u001b[43martist\u001b[49m\u001b[43m,\u001b[49m\u001b[43m \u001b[49m\u001b[43mrenderer\u001b[49m\u001b[43m)\u001b[49m\n\u001b[1;32m     52\u001b[0m \u001b[38;5;28;01mfinally\u001b[39;00m:\n\u001b[1;32m     53\u001b[0m     \u001b[38;5;28;01mif\u001b[39;00m artist\u001b[38;5;241m.\u001b[39mget_agg_filter() \u001b[38;5;129;01mis\u001b[39;00m \u001b[38;5;129;01mnot\u001b[39;00m \u001b[38;5;28;01mNone\u001b[39;00m:\n",
      "File \u001b[0;32m~/enric/venvs/LibriMix3D/lib/python3.8/site-packages/matplotlib/axis.py:299\u001b[0m, in \u001b[0;36mTick.draw\u001b[0;34m(self, renderer)\u001b[0m\n\u001b[1;32m    296\u001b[0m renderer\u001b[38;5;241m.\u001b[39mopen_group(\u001b[38;5;28mself\u001b[39m\u001b[38;5;241m.\u001b[39m\u001b[38;5;18m__name__\u001b[39m, gid\u001b[38;5;241m=\u001b[39m\u001b[38;5;28mself\u001b[39m\u001b[38;5;241m.\u001b[39mget_gid())\n\u001b[1;32m    297\u001b[0m \u001b[38;5;28;01mfor\u001b[39;00m artist \u001b[38;5;129;01min\u001b[39;00m [\u001b[38;5;28mself\u001b[39m\u001b[38;5;241m.\u001b[39mgridline, \u001b[38;5;28mself\u001b[39m\u001b[38;5;241m.\u001b[39mtick1line, \u001b[38;5;28mself\u001b[39m\u001b[38;5;241m.\u001b[39mtick2line,\n\u001b[1;32m    298\u001b[0m                \u001b[38;5;28mself\u001b[39m\u001b[38;5;241m.\u001b[39mlabel1, \u001b[38;5;28mself\u001b[39m\u001b[38;5;241m.\u001b[39mlabel2]:\n\u001b[0;32m--> 299\u001b[0m     \u001b[43martist\u001b[49m\u001b[38;5;241;43m.\u001b[39;49m\u001b[43mdraw\u001b[49m\u001b[43m(\u001b[49m\u001b[43mrenderer\u001b[49m\u001b[43m)\u001b[49m\n\u001b[1;32m    300\u001b[0m renderer\u001b[38;5;241m.\u001b[39mclose_group(\u001b[38;5;28mself\u001b[39m\u001b[38;5;241m.\u001b[39m\u001b[38;5;18m__name__\u001b[39m)\n\u001b[1;32m    301\u001b[0m \u001b[38;5;28mself\u001b[39m\u001b[38;5;241m.\u001b[39mstale \u001b[38;5;241m=\u001b[39m \u001b[38;5;28;01mFalse\u001b[39;00m\n",
      "File \u001b[0;32m~/enric/venvs/LibriMix3D/lib/python3.8/site-packages/matplotlib/artist.py:51\u001b[0m, in \u001b[0;36mallow_rasterization.<locals>.draw_wrapper\u001b[0;34m(artist, renderer)\u001b[0m\n\u001b[1;32m     48\u001b[0m     \u001b[38;5;28;01mif\u001b[39;00m artist\u001b[38;5;241m.\u001b[39mget_agg_filter() \u001b[38;5;129;01mis\u001b[39;00m \u001b[38;5;129;01mnot\u001b[39;00m \u001b[38;5;28;01mNone\u001b[39;00m:\n\u001b[1;32m     49\u001b[0m         renderer\u001b[38;5;241m.\u001b[39mstart_filter()\n\u001b[0;32m---> 51\u001b[0m     \u001b[38;5;28;01mreturn\u001b[39;00m \u001b[43mdraw\u001b[49m\u001b[43m(\u001b[49m\u001b[43martist\u001b[49m\u001b[43m,\u001b[49m\u001b[43m \u001b[49m\u001b[43mrenderer\u001b[49m\u001b[43m)\u001b[49m\n\u001b[1;32m     52\u001b[0m \u001b[38;5;28;01mfinally\u001b[39;00m:\n\u001b[1;32m     53\u001b[0m     \u001b[38;5;28;01mif\u001b[39;00m artist\u001b[38;5;241m.\u001b[39mget_agg_filter() \u001b[38;5;129;01mis\u001b[39;00m \u001b[38;5;129;01mnot\u001b[39;00m \u001b[38;5;28;01mNone\u001b[39;00m:\n",
      "File \u001b[0;32m~/enric/venvs/LibriMix3D/lib/python3.8/site-packages/matplotlib/lines.py:842\u001b[0m, in \u001b[0;36mLine2D.draw\u001b[0;34m(self, renderer)\u001b[0m\n\u001b[1;32m    839\u001b[0m \u001b[38;5;28;01melse\u001b[39;00m:\n\u001b[1;32m    840\u001b[0m     \u001b[38;5;66;03m# Don't scale for pixels, and don't stroke them\u001b[39;00m\n\u001b[1;32m    841\u001b[0m     marker_trans \u001b[38;5;241m=\u001b[39m marker_trans\u001b[38;5;241m.\u001b[39mscale(w)\n\u001b[0;32m--> 842\u001b[0m \u001b[43mrenderer\u001b[49m\u001b[38;5;241;43m.\u001b[39;49m\u001b[43mdraw_markers\u001b[49m\u001b[43m(\u001b[49m\u001b[43mgc\u001b[49m\u001b[43m,\u001b[49m\u001b[43m \u001b[49m\u001b[43mmarker_path\u001b[49m\u001b[43m,\u001b[49m\u001b[43m \u001b[49m\u001b[43mmarker_trans\u001b[49m\u001b[43m,\u001b[49m\n\u001b[1;32m    843\u001b[0m \u001b[43m                      \u001b[49m\u001b[43msubsampled\u001b[49m\u001b[43m,\u001b[49m\u001b[43m \u001b[49m\u001b[43maffine\u001b[49m\u001b[38;5;241;43m.\u001b[39;49m\u001b[43mfrozen\u001b[49m\u001b[43m(\u001b[49m\u001b[43m)\u001b[49m\u001b[43m,\u001b[49m\n\u001b[1;32m    844\u001b[0m \u001b[43m                      \u001b[49m\u001b[43mfc_rgba\u001b[49m\u001b[43m)\u001b[49m\n\u001b[1;32m    846\u001b[0m alt_marker_path \u001b[38;5;241m=\u001b[39m marker\u001b[38;5;241m.\u001b[39mget_alt_path()\n\u001b[1;32m    847\u001b[0m \u001b[38;5;28;01mif\u001b[39;00m alt_marker_path:\n",
      "File \u001b[0;32m~/enric/venvs/LibriMix3D/lib/python3.8/site-packages/matplotlib/backends/backend_pdf.py:2079\u001b[0m, in \u001b[0;36mRendererPdf.draw_markers\u001b[0;34m(self, gc, marker_path, marker_trans, path, trans, rgbFace)\u001b[0m\n\u001b[1;32m   2077\u001b[0m uses \u001b[38;5;241m=\u001b[39m \u001b[38;5;28mlen\u001b[39m(path)\n\u001b[1;32m   2078\u001b[0m \u001b[38;5;28;01mif\u001b[39;00m len_marker_path \u001b[38;5;241m*\u001b[39m uses \u001b[38;5;241m<\u001b[39m len_marker_path \u001b[38;5;241m+\u001b[39m uses \u001b[38;5;241m+\u001b[39m \u001b[38;5;241m5\u001b[39m:\n\u001b[0;32m-> 2079\u001b[0m     \u001b[43mRendererBase\u001b[49m\u001b[38;5;241;43m.\u001b[39;49m\u001b[43mdraw_markers\u001b[49m\u001b[43m(\u001b[49m\u001b[38;5;28;43mself\u001b[39;49m\u001b[43m,\u001b[49m\u001b[43m \u001b[49m\u001b[43mgc\u001b[49m\u001b[43m,\u001b[49m\u001b[43m \u001b[49m\u001b[43mmarker_path\u001b[49m\u001b[43m,\u001b[49m\u001b[43m \u001b[49m\u001b[43mmarker_trans\u001b[49m\u001b[43m,\u001b[49m\n\u001b[1;32m   2080\u001b[0m \u001b[43m                              \u001b[49m\u001b[43mpath\u001b[49m\u001b[43m,\u001b[49m\u001b[43m \u001b[49m\u001b[43mtrans\u001b[49m\u001b[43m,\u001b[49m\u001b[43m \u001b[49m\u001b[43mrgbFace\u001b[49m\u001b[43m)\u001b[49m\n\u001b[1;32m   2081\u001b[0m     \u001b[38;5;28;01mreturn\u001b[39;00m\n\u001b[1;32m   2083\u001b[0m \u001b[38;5;28mself\u001b[39m\u001b[38;5;241m.\u001b[39mcheck_gc(gc, rgbFace)\n",
      "File \u001b[0;32m~/enric/venvs/LibriMix3D/lib/python3.8/site-packages/matplotlib/backend_bases.py:217\u001b[0m, in \u001b[0;36mRendererBase.draw_markers\u001b[0;34m(self, gc, marker_path, marker_trans, path, trans, rgbFace)\u001b[0m\n\u001b[1;32m    215\u001b[0m \u001b[38;5;28;01mif\u001b[39;00m \u001b[38;5;28mlen\u001b[39m(vertices):\n\u001b[1;32m    216\u001b[0m     x, y \u001b[38;5;241m=\u001b[39m vertices[\u001b[38;5;241m-\u001b[39m\u001b[38;5;241m2\u001b[39m:]\n\u001b[0;32m--> 217\u001b[0m     \u001b[38;5;28;43mself\u001b[39;49m\u001b[38;5;241;43m.\u001b[39;49m\u001b[43mdraw_path\u001b[49m\u001b[43m(\u001b[49m\u001b[43mgc\u001b[49m\u001b[43m,\u001b[49m\u001b[43m \u001b[49m\u001b[43mmarker_path\u001b[49m\u001b[43m,\u001b[49m\n\u001b[1;32m    218\u001b[0m \u001b[43m                   \u001b[49m\u001b[43mmarker_trans\u001b[49m\u001b[43m \u001b[49m\u001b[38;5;241;43m+\u001b[39;49m\n\u001b[1;32m    219\u001b[0m \u001b[43m                   \u001b[49m\u001b[43mtransforms\u001b[49m\u001b[38;5;241;43m.\u001b[39;49m\u001b[43mAffine2D\u001b[49m\u001b[43m(\u001b[49m\u001b[43m)\u001b[49m\u001b[38;5;241;43m.\u001b[39;49m\u001b[43mtranslate\u001b[49m\u001b[43m(\u001b[49m\u001b[43mx\u001b[49m\u001b[43m,\u001b[49m\u001b[43m \u001b[49m\u001b[43my\u001b[49m\u001b[43m)\u001b[49m\u001b[43m,\u001b[49m\n\u001b[1;32m    220\u001b[0m \u001b[43m                   \u001b[49m\u001b[43mrgbFace\u001b[49m\u001b[43m)\u001b[49m\n",
      "File \u001b[0;32m~/enric/venvs/LibriMix3D/lib/python3.8/site-packages/matplotlib/backends/backend_pdf.py:1995\u001b[0m, in \u001b[0;36mRendererPdf.draw_path\u001b[0;34m(self, gc, path, transform, rgbFace)\u001b[0m\n\u001b[1;32m   1992\u001b[0m \u001b[38;5;28;01mdef\u001b[39;00m \u001b[38;5;21mdraw_path\u001b[39m(\u001b[38;5;28mself\u001b[39m, gc, path, transform, rgbFace\u001b[38;5;241m=\u001b[39m\u001b[38;5;28;01mNone\u001b[39;00m):\n\u001b[1;32m   1993\u001b[0m     \u001b[38;5;66;03m# docstring inherited\u001b[39;00m\n\u001b[1;32m   1994\u001b[0m     \u001b[38;5;28mself\u001b[39m\u001b[38;5;241m.\u001b[39mcheck_gc(gc, rgbFace)\n\u001b[0;32m-> 1995\u001b[0m     \u001b[38;5;28;43mself\u001b[39;49m\u001b[38;5;241;43m.\u001b[39;49m\u001b[43mfile\u001b[49m\u001b[38;5;241;43m.\u001b[39;49m\u001b[43mwritePath\u001b[49m\u001b[43m(\u001b[49m\n\u001b[1;32m   1996\u001b[0m \u001b[43m        \u001b[49m\u001b[43mpath\u001b[49m\u001b[43m,\u001b[49m\u001b[43m \u001b[49m\u001b[43mtransform\u001b[49m\u001b[43m,\u001b[49m\n\u001b[1;32m   1997\u001b[0m \u001b[43m        \u001b[49m\u001b[43mrgbFace\u001b[49m\u001b[43m \u001b[49m\u001b[38;5;129;43;01mis\u001b[39;49;00m\u001b[43m \u001b[49m\u001b[38;5;28;43;01mNone\u001b[39;49;00m\u001b[43m \u001b[49m\u001b[38;5;129;43;01mand\u001b[39;49;00m\u001b[43m \u001b[49m\u001b[43mgc\u001b[49m\u001b[38;5;241;43m.\u001b[39;49m\u001b[43mget_hatch_path\u001b[49m\u001b[43m(\u001b[49m\u001b[43m)\u001b[49m\u001b[43m \u001b[49m\u001b[38;5;129;43;01mis\u001b[39;49;00m\u001b[43m \u001b[49m\u001b[38;5;28;43;01mNone\u001b[39;49;00m\u001b[43m,\u001b[49m\n\u001b[1;32m   1998\u001b[0m \u001b[43m        \u001b[49m\u001b[43mgc\u001b[49m\u001b[38;5;241;43m.\u001b[39;49m\u001b[43mget_sketch_params\u001b[49m\u001b[43m(\u001b[49m\u001b[43m)\u001b[49m\u001b[43m)\u001b[49m\n\u001b[1;32m   1999\u001b[0m     \u001b[38;5;28mself\u001b[39m\u001b[38;5;241m.\u001b[39mfile\u001b[38;5;241m.\u001b[39moutput(\u001b[38;5;28mself\u001b[39m\u001b[38;5;241m.\u001b[39mgc\u001b[38;5;241m.\u001b[39mpaint())\n",
      "File \u001b[0;32m~/enric/venvs/LibriMix3D/lib/python3.8/site-packages/matplotlib/backends/backend_pdf.py:1860\u001b[0m, in \u001b[0;36mPdfFile.writePath\u001b[0;34m(self, path, transform, clip, sketch)\u001b[0m\n\u001b[1;32m   1858\u001b[0m     clip \u001b[38;5;241m=\u001b[39m \u001b[38;5;28;01mNone\u001b[39;00m\n\u001b[1;32m   1859\u001b[0m     simplify \u001b[38;5;241m=\u001b[39m \u001b[38;5;28;01mFalse\u001b[39;00m\n\u001b[0;32m-> 1860\u001b[0m cmds \u001b[38;5;241m=\u001b[39m \u001b[38;5;28;43mself\u001b[39;49m\u001b[38;5;241;43m.\u001b[39;49m\u001b[43mpathOperations\u001b[49m\u001b[43m(\u001b[49m\u001b[43mpath\u001b[49m\u001b[43m,\u001b[49m\u001b[43m \u001b[49m\u001b[43mtransform\u001b[49m\u001b[43m,\u001b[49m\u001b[43m \u001b[49m\u001b[43mclip\u001b[49m\u001b[43m,\u001b[49m\u001b[43m \u001b[49m\u001b[43msimplify\u001b[49m\u001b[38;5;241;43m=\u001b[39;49m\u001b[43msimplify\u001b[49m\u001b[43m,\u001b[49m\n\u001b[1;32m   1861\u001b[0m \u001b[43m                           \u001b[49m\u001b[43msketch\u001b[49m\u001b[38;5;241;43m=\u001b[39;49m\u001b[43msketch\u001b[49m\u001b[43m)\u001b[49m\n\u001b[1;32m   1862\u001b[0m \u001b[38;5;28mself\u001b[39m\u001b[38;5;241m.\u001b[39moutput(\u001b[38;5;241m*\u001b[39mcmds)\n",
      "File \u001b[0;32m~/enric/venvs/LibriMix3D/lib/python3.8/site-packages/matplotlib/backends/backend_pdf.py:1847\u001b[0m, in \u001b[0;36mPdfFile.pathOperations\u001b[0;34m(path, transform, clip, simplify, sketch)\u001b[0m\n\u001b[1;32m   1845\u001b[0m \u001b[38;5;129m@staticmethod\u001b[39m\n\u001b[1;32m   1846\u001b[0m \u001b[38;5;28;01mdef\u001b[39;00m \u001b[38;5;21mpathOperations\u001b[39m(path, transform, clip\u001b[38;5;241m=\u001b[39m\u001b[38;5;28;01mNone\u001b[39;00m, simplify\u001b[38;5;241m=\u001b[39m\u001b[38;5;28;01mNone\u001b[39;00m, sketch\u001b[38;5;241m=\u001b[39m\u001b[38;5;28;01mNone\u001b[39;00m):\n\u001b[0;32m-> 1847\u001b[0m     \u001b[38;5;28;01mreturn\u001b[39;00m [Verbatim(\u001b[43m_path\u001b[49m\u001b[38;5;241;43m.\u001b[39;49m\u001b[43mconvert_to_string\u001b[49m\u001b[43m(\u001b[49m\n\u001b[1;32m   1848\u001b[0m \u001b[43m        \u001b[49m\u001b[43mpath\u001b[49m\u001b[43m,\u001b[49m\u001b[43m \u001b[49m\u001b[43mtransform\u001b[49m\u001b[43m,\u001b[49m\u001b[43m \u001b[49m\u001b[43mclip\u001b[49m\u001b[43m,\u001b[49m\u001b[43m \u001b[49m\u001b[43msimplify\u001b[49m\u001b[43m,\u001b[49m\u001b[43m \u001b[49m\u001b[43msketch\u001b[49m\u001b[43m,\u001b[49m\n\u001b[1;32m   1849\u001b[0m \u001b[43m        \u001b[49m\u001b[38;5;241;43m6\u001b[39;49m\u001b[43m,\u001b[49m\n\u001b[1;32m   1850\u001b[0m \u001b[43m        \u001b[49m\u001b[43m[\u001b[49m\u001b[43mOp\u001b[49m\u001b[38;5;241;43m.\u001b[39;49m\u001b[43mmoveto\u001b[49m\u001b[38;5;241;43m.\u001b[39;49m\u001b[43mop\u001b[49m\u001b[43m,\u001b[49m\u001b[43m \u001b[49m\u001b[43mOp\u001b[49m\u001b[38;5;241;43m.\u001b[39;49m\u001b[43mlineto\u001b[49m\u001b[38;5;241;43m.\u001b[39;49m\u001b[43mop\u001b[49m\u001b[43m,\u001b[49m\u001b[43m \u001b[49m\u001b[38;5;124;43mb\u001b[39;49m\u001b[38;5;124;43m'\u001b[39;49m\u001b[38;5;124;43m'\u001b[39;49m\u001b[43m,\u001b[49m\u001b[43m \u001b[49m\u001b[43mOp\u001b[49m\u001b[38;5;241;43m.\u001b[39;49m\u001b[43mcurveto\u001b[49m\u001b[38;5;241;43m.\u001b[39;49m\u001b[43mop\u001b[49m\u001b[43m,\u001b[49m\u001b[43m \u001b[49m\u001b[43mOp\u001b[49m\u001b[38;5;241;43m.\u001b[39;49m\u001b[43mclosepath\u001b[49m\u001b[38;5;241;43m.\u001b[39;49m\u001b[43mop\u001b[49m\u001b[43m]\u001b[49m\u001b[43m,\u001b[49m\n\u001b[1;32m   1851\u001b[0m \u001b[43m        \u001b[49m\u001b[38;5;28;43;01mTrue\u001b[39;49;00m\u001b[43m)\u001b[49m)]\n",
      "\u001b[0;31mKeyboardInterrupt\u001b[0m: "
     ]
    },
    {
     "data": {
      "image/png": "[encoded data removed]",
      "text/plain": [
       "<Figure size 640x480 with 1 Axes>"
      ]
     },
     "metadata": {},
     "output_type": "display_data"
    }
   ],
   "source": [
    "\n",
    "# generate a figure for each situation:\n",
    "for k in tqdm.tqdm(range(head_pos.shape[0])):\n",
    "    hlp.plot_scene(room[k], head_pos[k], np.array([head_orient_azi[k], head_orient_ele[k]])\n",
    "                   , ears_pos[k],[target_pos[k]], perspective=\"xy\")\n",
    "    plt.title(str(head_orient_azi[k])+ '_' + str(angle[k]))\n",
    "    plt.savefig(pjoin('situation_plots_rot', os.path.splitext(os.path.basename(df.iloc[k].audio_path))[0]+'.pdf'))\n",
    "    plt.close('all')\n"
   ]
  },
  {
   "cell_type": "code",
   "execution_count": null,
   "id": "700bec6a",
   "metadata": {},
   "outputs": [],
   "source": []
  }
 ],
 "metadata": {
  "kernelspec": {
   "display_name": "LibriMix3D",
   "language": "python",
   "name": "librimix3d"
  },
  "language_info": {
   "codemirror_mode": {
    "name": "ipython",
    "version": 3
   },
   "file_extension": ".py",
   "mimetype": "text/x-python",
   "name": "python",
   "nbconvert_exporter": "python",
   "pygments_lexer": "ipython3",
   "version": "3.8.10"
  }
 },
 "nbformat": 4,
 "nbformat_minor": 5
}
